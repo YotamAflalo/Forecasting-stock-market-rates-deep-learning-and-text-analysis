{
 "cells": [
  {
   "cell_type": "code",
   "execution_count": 3,
   "id": "bd997ce8",
   "metadata": {},
   "outputs": [],
   "source": [
    "import math\n",
    "import yfinance as yf\n",
    "import numpy as np\n",
    "import pandas as pd\n",
    "from sklearn.preprocessing import MinMaxScaler \n",
    "import matplotlib.pyplot as plt\n",
    "import tensorflow as tf\n",
    "from tensorflow import keras\n",
    "from tensorflow.keras import layers\n",
    "from keras.layers import Dropout\n",
    "import numpy as np\n",
    "from tensorflow.keras.models import Sequential\n",
    "from tensorflow.keras.layers import LSTM\n",
    "from tensorflow.keras.layers import Dense, Dropout\n",
    "import pandas as pd\n",
    "from matplotlib import pyplot as plt\n",
    "from sklearn.preprocessing import StandardScaler\n",
    "import seaborn as sns\n",
    "#stock_data = yf.download('AAPL', start='2016-01-01', end='2021-10-01')\n",
    "#stock_data.head()"
   ]
  },
  {
   "cell_type": "code",
   "execution_count": 4,
   "id": "4589049f",
   "metadata": {},
   "outputs": [
    {
     "name": "stdout",
     "output_type": "stream",
     "text": [
      "[*********************100%***********************]  1 of 1 completed\n"
     ]
    },
    {
     "data": {
      "text/html": [
       "<div>\n",
       "<style scoped>\n",
       "    .dataframe tbody tr th:only-of-type {\n",
       "        vertical-align: middle;\n",
       "    }\n",
       "\n",
       "    .dataframe tbody tr th {\n",
       "        vertical-align: top;\n",
       "    }\n",
       "\n",
       "    .dataframe thead th {\n",
       "        text-align: right;\n",
       "    }\n",
       "</style>\n",
       "<table border=\"1\" class=\"dataframe\">\n",
       "  <thead>\n",
       "    <tr style=\"text-align: right;\">\n",
       "      <th></th>\n",
       "      <th>Open</th>\n",
       "      <th>High</th>\n",
       "      <th>Low</th>\n",
       "      <th>Close</th>\n",
       "      <th>Adj Close</th>\n",
       "      <th>Volume</th>\n",
       "    </tr>\n",
       "    <tr>\n",
       "      <th>Date</th>\n",
       "      <th></th>\n",
       "      <th></th>\n",
       "      <th></th>\n",
       "      <th></th>\n",
       "      <th></th>\n",
       "      <th></th>\n",
       "    </tr>\n",
       "  </thead>\n",
       "  <tbody>\n",
       "    <tr>\n",
       "      <th>2010-01-04</th>\n",
       "      <td>7.622500</td>\n",
       "      <td>7.660714</td>\n",
       "      <td>7.585000</td>\n",
       "      <td>7.643214</td>\n",
       "      <td>6.496294</td>\n",
       "      <td>493729600</td>\n",
       "    </tr>\n",
       "    <tr>\n",
       "      <th>2010-01-05</th>\n",
       "      <td>7.664286</td>\n",
       "      <td>7.699643</td>\n",
       "      <td>7.616071</td>\n",
       "      <td>7.656429</td>\n",
       "      <td>6.507527</td>\n",
       "      <td>601904800</td>\n",
       "    </tr>\n",
       "    <tr>\n",
       "      <th>2010-01-06</th>\n",
       "      <td>7.656429</td>\n",
       "      <td>7.686786</td>\n",
       "      <td>7.526786</td>\n",
       "      <td>7.534643</td>\n",
       "      <td>6.404015</td>\n",
       "      <td>552160000</td>\n",
       "    </tr>\n",
       "    <tr>\n",
       "      <th>2010-01-07</th>\n",
       "      <td>7.562500</td>\n",
       "      <td>7.571429</td>\n",
       "      <td>7.466071</td>\n",
       "      <td>7.520714</td>\n",
       "      <td>6.392177</td>\n",
       "      <td>477131200</td>\n",
       "    </tr>\n",
       "    <tr>\n",
       "      <th>2010-01-08</th>\n",
       "      <td>7.510714</td>\n",
       "      <td>7.571429</td>\n",
       "      <td>7.466429</td>\n",
       "      <td>7.570714</td>\n",
       "      <td>6.434673</td>\n",
       "      <td>447610800</td>\n",
       "    </tr>\n",
       "  </tbody>\n",
       "</table>\n",
       "</div>"
      ],
      "text/plain": [
       "                Open      High       Low     Close  Adj Close     Volume\n",
       "Date                                                                    \n",
       "2010-01-04  7.622500  7.660714  7.585000  7.643214   6.496294  493729600\n",
       "2010-01-05  7.664286  7.699643  7.616071  7.656429   6.507527  601904800\n",
       "2010-01-06  7.656429  7.686786  7.526786  7.534643   6.404015  552160000\n",
       "2010-01-07  7.562500  7.571429  7.466071  7.520714   6.392177  477131200\n",
       "2010-01-08  7.510714  7.571429  7.466429  7.570714   6.434673  447610800"
      ]
     },
     "execution_count": 4,
     "metadata": {},
     "output_type": "execute_result"
    }
   ],
   "source": [
    "#stock_data = yf.download('AAPL', start='2016-01-01', end='2021-10-01')\n",
    "stock_data = yf.download('AAPL', start='2010-01-01', end='2021-10-01')\n",
    "\n",
    "stock_data.head()"
   ]
  },
  {
   "cell_type": "code",
   "execution_count": 5,
   "id": "8b25a5d5",
   "metadata": {},
   "outputs": [
    {
     "data": {
      "text/plain": [
       "2366"
      ]
     },
     "execution_count": 5,
     "metadata": {},
     "output_type": "execute_result"
    }
   ],
   "source": [
    "training_data_len = math.ceil(len(stock_data)* 0.8)\n",
    "training_data_len"
   ]
  },
  {
   "cell_type": "code",
   "execution_count": 6,
   "id": "14ee1f87",
   "metadata": {},
   "outputs": [
    {
     "data": {
      "text/plain": [
       "['Open', 'High', 'Low', 'Close', 'Adj Close', 'Volume']"
      ]
     },
     "execution_count": 6,
     "metadata": {},
     "output_type": "execute_result"
    }
   ],
   "source": [
    "cols = list(stock_data)[0:6]\n",
    "cols"
   ]
  },
  {
   "cell_type": "code",
   "execution_count": 7,
   "id": "9d4697b8",
   "metadata": {},
   "outputs": [],
   "source": [
    "stock_data = stock_data[cols].astype(float)\n"
   ]
  },
  {
   "cell_type": "code",
   "execution_count": 8,
   "id": "04e223b8",
   "metadata": {},
   "outputs": [
    {
     "data": {
      "text/plain": [
       "(2957, 6)"
      ]
     },
     "execution_count": 8,
     "metadata": {},
     "output_type": "execute_result"
    }
   ],
   "source": [
    "stock_data.shape"
   ]
  },
  {
   "cell_type": "code",
   "execution_count": 9,
   "id": "939c30ea",
   "metadata": {},
   "outputs": [],
   "source": [
    "trainX = []\n",
    "trainY = []\n",
    "testX = []\n",
    "testY = []\n",
    "n_future = 1   # Number of days we want to look into the future based on the past days.\n",
    "n_past = 42  # Number of past days we want to use to predict the future.\n"
   ]
  },
  {
   "cell_type": "code",
   "execution_count": 10,
   "id": "e2ac027d",
   "metadata": {},
   "outputs": [],
   "source": [
    "train_df = stock_data.iloc[0:training_data_len]\n",
    "test_df = stock_data.iloc[training_data_len-n_past:]"
   ]
  },
  {
   "cell_type": "code",
   "execution_count": null,
   "id": "0736efd7",
   "metadata": {},
   "outputs": [],
   "source": []
  },
  {
   "cell_type": "code",
   "execution_count": 11,
   "id": "728be97f",
   "metadata": {},
   "outputs": [],
   "source": [
    "scaler = StandardScaler()\n",
    "scaler = scaler.fit(train_df)\n",
    "train_df_scaled = scaler.transform(train_df)\n"
   ]
  },
  {
   "cell_type": "code",
   "execution_count": 12,
   "id": "90882f09",
   "metadata": {},
   "outputs": [],
   "source": [
    "test_df_scaled = scaler.transform(test_df)"
   ]
  },
  {
   "cell_type": "code",
   "execution_count": 13,
   "id": "98c2c7ed",
   "metadata": {},
   "outputs": [],
   "source": [
    "testX = []\n",
    "testY = []"
   ]
  },
  {
   "cell_type": "code",
   "execution_count": 14,
   "id": "e993cb78",
   "metadata": {},
   "outputs": [
    {
     "name": "stdout",
     "output_type": "stream",
     "text": [
      "trainX shape == (2324, 42, 6).\n",
      "trainY shape == (2324, 1).\n"
     ]
    }
   ],
   "source": [
    "for i in range(n_past, len(train_df_scaled) - n_future +1):\n",
    "    trainX.append(train_df_scaled[i - n_past:i, 0:train_df_scaled.shape[1]])\n",
    "    trainY.append(train_df_scaled[i + n_future - 1:i + n_future, 0])\n",
    "\n",
    "trainX, trainY = np.array(trainX), np.array(trainY)\n",
    "\n",
    "print('trainX shape == {}.'.format(trainX.shape))\n",
    "print('trainY shape == {}.'.format(trainY.shape))\n"
   ]
  },
  {
   "cell_type": "code",
   "execution_count": 15,
   "id": "bd3836c2",
   "metadata": {},
   "outputs": [
    {
     "name": "stdout",
     "output_type": "stream",
     "text": [
      "testX shape == (591, 42, 6).\n",
      "testY shape == (591, 1).\n"
     ]
    }
   ],
   "source": [
    "for i in range(n_past, len(test_df_scaled) - n_future +1):\n",
    "    testX.append(test_df_scaled[i - n_past:i, 0:test_df_scaled.shape[1]])\n",
    "    testY.append(test_df_scaled[i + n_future - 1:i + n_future, 0])\n",
    "\n",
    "testX, testY = np.array(testX), np.array(testY)\n",
    "\n",
    "print('testX shape == {}.'.format(testX.shape))\n",
    "print('testY shape == {}.'.format(testY.shape))\n"
   ]
  },
  {
   "cell_type": "code",
   "execution_count": 16,
   "id": "22d063a8",
   "metadata": {},
   "outputs": [],
   "source": [
    "model = Sequential()\n",
    "model.add(LSTM(64, activation='relu', input_shape=(trainX.shape[1], trainX.shape[2]), return_sequences=True))\n",
    "model.add(LSTM(32, activation='relu', return_sequences=False))\n",
    "model.add(Dropout(0.2))\n",
    "model.add(Dense(trainY.shape[1]))\n"
   ]
  },
  {
   "cell_type": "code",
   "execution_count": 17,
   "id": "fc268299",
   "metadata": {},
   "outputs": [
    {
     "name": "stdout",
     "output_type": "stream",
     "text": [
      "Model: \"sequential\"\n",
      "_________________________________________________________________\n",
      " Layer (type)                Output Shape              Param #   \n",
      "=================================================================\n",
      " lstm (LSTM)                 (None, 42, 64)            18176     \n",
      "                                                                 \n",
      " lstm_1 (LSTM)               (None, 32)                12416     \n",
      "                                                                 \n",
      " dropout (Dropout)           (None, 32)                0         \n",
      "                                                                 \n",
      " dense (Dense)               (None, 1)                 33        \n",
      "                                                                 \n",
      "=================================================================\n",
      "Total params: 30625 (119.63 KB)\n",
      "Trainable params: 30625 (119.63 KB)\n",
      "Non-trainable params: 0 (0.00 Byte)\n",
      "_________________________________________________________________\n"
     ]
    }
   ],
   "source": [
    "model.compile(optimizer='adam', loss='mse')\n",
    "model.summary()"
   ]
  },
  {
   "cell_type": "code",
   "execution_count": 18,
   "id": "6a49f5a4",
   "metadata": {},
   "outputs": [
    {
     "name": "stdout",
     "output_type": "stream",
     "text": [
      "Epoch 1/30\n",
      "131/131 [==============================] - 5s 24ms/step - loss: 0.0895 - val_loss: 0.0592\n",
      "Epoch 2/30\n",
      "131/131 [==============================] - 3s 23ms/step - loss: 0.0269 - val_loss: 0.0239\n",
      "Epoch 3/30\n",
      "131/131 [==============================] - 3s 20ms/step - loss: 0.0251 - val_loss: 0.0984\n",
      "Epoch 4/30\n",
      "131/131 [==============================] - 3s 21ms/step - loss: 0.0262 - val_loss: 0.2015\n",
      "Epoch 5/30\n",
      "131/131 [==============================] - 3s 20ms/step - loss: 0.0250 - val_loss: 0.0300\n",
      "Epoch 6/30\n",
      "131/131 [==============================] - 3s 21ms/step - loss: 0.0259 - val_loss: 0.0340\n",
      "Epoch 7/30\n",
      "131/131 [==============================] - 3s 20ms/step - loss: 0.0232 - val_loss: 0.0740\n",
      "Epoch 8/30\n",
      "131/131 [==============================] - 3s 21ms/step - loss: 0.0236 - val_loss: 0.0354\n",
      "Epoch 9/30\n",
      "131/131 [==============================] - 3s 22ms/step - loss: 0.0206 - val_loss: 0.0118\n",
      "Epoch 10/30\n",
      "131/131 [==============================] - 3s 22ms/step - loss: 0.0230 - val_loss: 0.0192\n",
      "Epoch 11/30\n",
      "131/131 [==============================] - 3s 24ms/step - loss: 0.0231 - val_loss: 0.0215\n",
      "Epoch 12/30\n",
      "131/131 [==============================] - 3s 23ms/step - loss: 0.0212 - val_loss: 0.0632\n",
      "Epoch 13/30\n",
      "131/131 [==============================] - 3s 27ms/step - loss: 0.0222 - val_loss: 0.0454\n",
      "Epoch 14/30\n",
      "131/131 [==============================] - 4s 31ms/step - loss: 0.0210 - val_loss: 0.0340\n",
      "Epoch 15/30\n",
      "131/131 [==============================] - 4s 28ms/step - loss: 0.0202 - val_loss: 0.0572\n",
      "Epoch 16/30\n",
      "131/131 [==============================] - 4s 32ms/step - loss: 0.0219 - val_loss: 0.0849\n",
      "Epoch 17/30\n",
      "131/131 [==============================] - 4s 31ms/step - loss: 0.0222 - val_loss: 0.0250\n",
      "Epoch 18/30\n",
      "131/131 [==============================] - 4s 31ms/step - loss: 0.0222 - val_loss: 0.0162\n",
      "Epoch 19/30\n",
      "131/131 [==============================] - 4s 31ms/step - loss: 0.0199 - val_loss: 0.0156\n",
      "Epoch 20/30\n",
      "131/131 [==============================] - 4s 31ms/step - loss: 0.0211 - val_loss: 0.0060\n",
      "Epoch 21/30\n",
      "131/131 [==============================] - 4s 28ms/step - loss: 0.0227 - val_loss: 0.0064\n",
      "Epoch 22/30\n",
      "131/131 [==============================] - 5s 36ms/step - loss: 0.0230 - val_loss: 0.0123\n",
      "Epoch 23/30\n",
      "131/131 [==============================] - 5s 37ms/step - loss: 0.0232 - val_loss: 0.0700\n",
      "Epoch 24/30\n",
      "131/131 [==============================] - 3s 23ms/step - loss: 0.0212 - val_loss: 0.0048\n",
      "Epoch 25/30\n",
      "131/131 [==============================] - 3s 23ms/step - loss: 0.0220 - val_loss: 0.0140\n",
      "Epoch 26/30\n",
      "131/131 [==============================] - 4s 27ms/step - loss: 0.0202 - val_loss: 0.0352\n",
      "Epoch 27/30\n",
      "131/131 [==============================] - 3s 25ms/step - loss: 0.0205 - val_loss: 0.0429\n",
      "Epoch 28/30\n",
      "131/131 [==============================] - 3s 23ms/step - loss: 0.0194 - val_loss: 0.0537\n",
      "Epoch 29/30\n",
      "131/131 [==============================] - 3s 26ms/step - loss: 0.0213 - val_loss: 0.0409\n",
      "Epoch 30/30\n",
      "131/131 [==============================] - 4s 31ms/step - loss: 0.0213 - val_loss: 0.0272\n"
     ]
    },
    {
     "data": {
      "text/plain": [
       "<matplotlib.legend.Legend at 0x2149666bac0>"
      ]
     },
     "execution_count": 18,
     "metadata": {},
     "output_type": "execute_result"
    },
    {
     "data": {
      "image/png": "[encoded data removed]",
      "text/plain": [
       "<Figure size 640x480 with 1 Axes>"
      ]
     },
     "metadata": {},
     "output_type": "display_data"
    }
   ],
   "source": [
    "history = model.fit(trainX, trainY, epochs=30, batch_size=16, validation_split=0.1, verbose=1)\n",
    "\n",
    "plt.plot(history.history['loss'], label='Training loss')\n",
    "plt.plot(history.history['val_loss'], label='Validation loss')\n",
    "plt.legend()\n"
   ]
  },
  {
   "cell_type": "code",
   "execution_count": 19,
   "id": "7342c1fc",
   "metadata": {},
   "outputs": [
    {
     "name": "stdout",
     "output_type": "stream",
     "text": [
      "19/19 [==============================] - 0s 9ms/step\n"
     ]
    },
    {
     "data": {
      "text/plain": [
       "75.52170462879604"
      ]
     },
     "execution_count": 19,
     "metadata": {},
     "output_type": "execute_result"
    }
   ],
   "source": [
    "predictions = model.predict(testX)\n",
    "prediction_copies = np.repeat(predictions, test_df.shape[1], axis=-1)\n",
    "\n",
    "predictions = scaler.inverse_transform(prediction_copies)[:,0]\n",
    "rmse = np.sqrt(np.mean(predictions - testY)**2)\n",
    "rmse\n"
   ]
  },
  {
   "cell_type": "code",
   "execution_count": null,
   "id": "78fded08",
   "metadata": {},
   "outputs": [],
   "source": []
  },
  {
   "cell_type": "code",
   "execution_count": 40,
   "id": "4c9d4ccd",
   "metadata": {},
   "outputs": [
    {
     "data": {
      "text/plain": [
       "array([ 52.2793  ,  52.28568 ,  53.52183 ,  52.817455,  51.085873,\n",
       "        48.838486,  48.95428 ,  49.526104,  50.59556 ,  50.735783,\n",
       "        50.57557 ,  51.873478,  51.358807,  50.725636,  51.388485,\n",
       "        52.526577,  52.900543,  53.145687,  53.067017,  51.313297,\n",
       "        51.315174,  51.267696,  51.284664,  52.033768,  52.35095 ,\n",
       "        51.673695,  52.093933,  53.089046,  53.384098,  53.51071 ,\n",
       "        53.790615,  55.135395,  55.685658,  54.46894 ,  54.164852,\n",
       "        54.40639 ,  54.936848,  54.980007,  54.571293,  54.238132,\n",
       "        54.301384,  54.631966,  54.661713,  54.488274,  55.32808 ,\n",
       "        56.004803,  54.764072,  54.36638 ,  55.72054 ,  56.372746,\n",
       "        55.928688,  56.004234,  56.635475,  58.029102,  58.247864,\n",
       "        57.980675,  57.45639 ,  57.515648,  57.908524,  58.8176  ,\n",
       "        59.059097,  59.44397 ,  59.552246,  59.986534,  60.66651 ,\n",
       "        59.84484 ,  59.23689 ,  59.95675 ,  61.811363,  62.665188,\n",
       "        62.486954,  62.105953,  62.66182 ,  62.742435,  63.193966,\n",
       "        63.357407,  63.76729 ,  63.56558 ,  63.9861  ,  64.35795 ,\n",
       "        64.31829 ,  63.490547,  63.231537,  63.21397 ,  64.20829 ,\n",
       "        64.226616,  64.67593 ,  64.586555,  64.04166 ,  62.45766 ,\n",
       "        63.171448,  64.25676 ,  65.49582 ,  64.91525 ,  64.767044,\n",
       "        65.25418 ,  65.53124 ,  66.303825,  67.429825,  67.57057 ,\n",
       "        67.260956,  67.06389 ,  67.49385 ,  68.02176 ,  68.23753 ,\n",
       "        69.24869 ,  69.794815,  69.53857 ,  69.93967 ,  71.46494 ,\n",
       "        71.22225 ,  70.97633 ,  71.22223 ,  72.10985 ,  73.729866,\n",
       "        73.97975 ,  74.90668 ,  74.51928 ,  73.78268 ,  74.642075,\n",
       "        75.68797 ,  75.53466 ,  75.80283 ,  75.927574,  76.34445 ,\n",
       "        73.19257 ,  75.384636,  77.91121 ,  77.27764 ,  74.35488 ,\n",
       "        73.27608 ,  76.12585 ,  77.482765,  77.76754 ,  76.70244 ,\n",
       "        76.48111 ,  77.0451  ,  78.32289 ,  78.091774,  77.93202 ,\n",
       "        76.14439 ,  77.5248  ,  77.595856,  75.638664,  71.29062 ,\n",
       "        70.53922 ,  71.87594 ,  68.559494,  67.104034,  72.1953  ,\n",
       "        72.44102 ,  73.4473  ,  71.44076 ,  69.33499 ,  64.69903 ,\n",
       "        67.96256 ,  68.04861 ,  62.493107,  66.09884 ,  60.505383,\n",
       "        61.525017,  61.167526,  61.42525 ,  58.883327,  55.648872,\n",
       "        59.227283,  61.3087  ,  62.98566 ,  61.55021 ,  61.949406,\n",
       "        62.573105,  59.086132,  58.941944,  59.160866,  62.70388 ,\n",
       "        64.09627 ,  64.66277 ,  64.95139 ,  65.56017 ,  68.34444 ,\n",
       "        67.97994 ,  68.11496 ,  67.165665,  65.84637 ,  64.17852 ,\n",
       "        65.766716,  66.778336,  67.892944,  68.18445 ,  67.33006 ,\n",
       "        68.76815 ,  70.231186,  69.8698  ,  69.56199 ,  71.011696,\n",
       "        71.838646,  72.3276  ,  73.443054,  74.517265,  74.39669 ,\n",
       "        72.90719 ,  72.66583 ,  72.827774,  74.89775 ,  75.160095,\n",
       "        75.90192 ,  75.6417  ,  75.6882  ,  76.11294 ,  75.61996 ,\n",
       "        76.30905 ,  76.39338 ,  76.81062 ,  77.24392 ,  77.81265 ,\n",
       "        77.23319 ,  78.837685,  79.42086 ,  81.517105,  83.68523 ,\n",
       "        79.89603 ,  80.26193 ,  81.31801 ,  83.79729 ,  83.99403 ,\n",
       "        83.53462 ,  83.721886,  85.0707  ,  87.70299 ,  86.03287 ,\n",
       "        86.13524 ,  84.91052 ,  85.83892 ,  87.53324 ,  87.674866,\n",
       "        87.80668 ,  89.67159 ,  89.8115  ,  91.11661 ,  91.722244,\n",
       "        91.69748 ,  93.27871 ,  92.74189 ,  94.39033 ,  93.04635 ,\n",
       "        93.30473 ,  95.316696,  95.38021 ,  94.83711 ,  90.72768 ,\n",
       "        89.57818 ,  94.73506 ,  94.34496 ,  95.18579 ,  96.25797 ,\n",
       "       105.4607  , 107.71052 , 105.41237 , 105.69967 , 109.90997 ,\n",
       "       107.745636, 109.23526 , 106.74393 , 111.16217 , 114.85585 ,\n",
       "       112.72996 , 113.27575 , 114.763374, 116.50696 , 118.79718 ,\n",
       "       125.7101  , 127.512184, 121.368835, 125.587234, 126.00435 ,\n",
       "       126.1833  , 133.53479 , 139.47945 , 133.64343 , 118.40832 ,\n",
       "       122.530304, 126.06474 , 135.0614  , 133.12611 , 130.85751 ,\n",
       "       139.0921  , 142.50378 , 139.59532 , 139.57172 , 140.18097 ,\n",
       "       145.63664 , 153.0688  , 145.33339 , 152.43037 , 158.38277 ,\n",
       "       163.07286 , 160.59726 , 167.81273 , 165.90416 , 162.61833 ,\n",
       "       175.8829  , 159.41591 , 181.13023 , 162.98401 , 183.06134 ,\n",
       "       181.71689 , 170.77817 , 185.42453 , 166.23685 , 181.96686 ,\n",
       "       166.12721 , 178.06508 , 168.37462 , 166.29395 , 162.0717  ,\n",
       "       159.74828 , 162.23434 , 152.01003 , 162.82982 , 144.45009 ,\n",
       "       151.85205 , 153.0617  , 159.01996 , 161.69942 , 157.58682 ,\n",
       "       160.34712 , 156.3495  , 166.1651  , 161.68755 , 164.4238  ,\n",
       "       167.21082 , 166.33313 , 166.10481 , 167.51927 , 167.78369 ,\n",
       "       164.15065 , 169.72188 , 169.15036 , 170.66508 , 174.51315 ,\n",
       "       175.68706 , 173.28726 , 175.10703 , 170.5677  , 177.58908 ,\n",
       "       173.3692  , 173.36996 , 174.13072 , 171.56601 , 173.86124 ,\n",
       "       181.59639 , 173.89423 , 182.22266 , 172.6866  , 180.33469 ,\n",
       "       187.80585 , 177.81726 , 192.27528 , 188.23569 , 188.5406  ,\n",
       "       188.3887  , 187.12984 , 185.94992 , 195.09306 , 180.20128 ,\n",
       "       204.4083  , 184.41095 , 195.29291 , 192.29044 , 197.66023 ,\n",
       "       191.44775 , 197.86716 , 196.12122 , 206.8218  , 209.76346 ,\n",
       "       206.00056 , 223.63261 , 202.16045 , 232.75896 , 193.40494 ,\n",
       "       221.40239 , 208.35178 , 178.07039 , 273.35483 , 171.46318 ,\n",
       "       182.84113 , 377.0126  , 157.16385 , 220.13313 , 336.33914 ,\n",
       "        64.70259 , 509.20303 ,  90.140785, 536.44366 , 122.41383 ,\n",
       "       146.92566 , 531.1508  ,  56.546783, 557.79443 , 141.12553 ,\n",
       "        54.077663, 488.8187  ,  84.97406 , 389.66418 , 176.62747 ,\n",
       "       118.36613 , 248.05226 , 120.45539 , 330.1427  , 355.60672 ,\n",
       "        94.002335, 280.30273 , 109.59417 , 358.01416 , 115.30597 ,\n",
       "       260.8052  , 143.53317 , 487.90277 ,  98.178535, 378.93356 ,\n",
       "       110.81968 , 267.03552 , 131.9383  ,  87.60975 , 262.45157 ,\n",
       "       341.2472  , 136.04863 , 310.50797 , 192.04865 , 211.05621 ,\n",
       "       212.08624 , 193.24156 , 228.22289 , 187.82135 , 229.31284 ,\n",
       "       183.08511 , 219.30865 , 191.59482 , 212.54846 , 197.11282 ,\n",
       "       210.01306 , 200.82236 , 209.53185 , 196.42143 , 214.72131 ,\n",
       "       190.63434 , 215.53642 , 200.84076 , 197.2246  , 214.33545 ,\n",
       "       153.44475 , 258.5227  , 122.02512 , 320.51794 ,  91.9484  ,\n",
       "       421.98685 ,  84.704636, 488.72635 , 102.574646, 452.94342 ,\n",
       "       109.59076 , 296.82935 , 360.61227 , 113.39511 , 351.29852 ,\n",
       "        95.97539 , 337.7354  , 115.7848  , 278.6561  , 113.49159 ,\n",
       "       267.61688 ,  84.06043 , 510.36304 , 118.08911 , 381.57364 ,\n",
       "        95.53759 , 353.9398  ,  96.12149 , 516.8204  , 121.99754 ,\n",
       "       531.73755 , 125.81254 , 237.41464 , 375.28043 , 108.30587 ,\n",
       "       324.1865  , 208.52594 , 177.47917 , 297.57175 , 162.78287 ,\n",
       "       246.30833 , 190.27132 , 226.96535 , 209.32373 , 198.84332 ,\n",
       "       242.04121 , 214.8743  , 161.68962 , 334.2521  , 152.43935 ,\n",
       "       196.88058 , 224.15276 , 268.547   , 252.83359 , 218.69753 ,\n",
       "       437.32828 , 177.09286 , 537.7892  , 136.93904 , 438.13635 ,\n",
       "        81.634026, 252.84636 , 505.20697 , 122.16755 , 295.70038 ,\n",
       "       131.34845 , 334.1888  , 139.68631 , 153.01865 , 388.54147 ,\n",
       "       134.17471 , 349.07706 , 148.14285 , 407.1337  , 437.4444  ,\n",
       "       148.64552 , 381.63168 , 140.76294 , 406.34152 , 152.8284  ,\n",
       "       145.15805 , 412.10532 , 151.15152 , 442.85666 , 154.02052 ,\n",
       "       148.88773 , 409.34418 , 128.07787 , 392.50827 , 141.07205 ,\n",
       "       364.78394 , 142.7812  , 365.87463 , 151.23668 , 125.281044,\n",
       "       368.01797 , 139.5796  , 378.30536 , 141.05786 ], dtype=float32)"
      ]
     },
     "execution_count": 40,
     "metadata": {},
     "output_type": "execute_result"
    }
   ],
   "source": [
    "predictions"
   ]
  },
  {
   "cell_type": "code",
   "execution_count": 55,
   "id": "e85fa677",
   "metadata": {},
   "outputs": [],
   "source": [
    "data = stock_data.filter(['Open'])\n",
    "#train = data[:training_data_len]\n",
    "#validation = data[training_data_len:]\n",
    "#validation['Predictions'] = predictions\n",
    "#validation"
   ]
  },
  {
   "cell_type": "code",
   "execution_count": 57,
   "id": "e979bc05",
   "metadata": {},
   "outputs": [
    {
     "data": {
      "text/html": [
       "<div>\n",
       "<style scoped>\n",
       "    .dataframe tbody tr th:only-of-type {\n",
       "        vertical-align: middle;\n",
       "    }\n",
       "\n",
       "    .dataframe tbody tr th {\n",
       "        vertical-align: top;\n",
       "    }\n",
       "\n",
       "    .dataframe thead th {\n",
       "        text-align: right;\n",
       "    }\n",
       "</style>\n",
       "<table border=\"1\" class=\"dataframe\">\n",
       "  <thead>\n",
       "    <tr style=\"text-align: right;\">\n",
       "      <th></th>\n",
       "      <th>High</th>\n",
       "      <th>Low</th>\n",
       "      <th>Close</th>\n",
       "      <th>Adj Close</th>\n",
       "      <th>Volume</th>\n",
       "    </tr>\n",
       "    <tr>\n",
       "      <th>Date</th>\n",
       "      <th></th>\n",
       "      <th></th>\n",
       "      <th></th>\n",
       "      <th></th>\n",
       "      <th></th>\n",
       "    </tr>\n",
       "  </thead>\n",
       "  <tbody>\n",
       "    <tr>\n",
       "      <th>2010-01-04</th>\n",
       "      <td>7.660714</td>\n",
       "      <td>7.585000</td>\n",
       "      <td>7.643214</td>\n",
       "      <td>6.496295</td>\n",
       "      <td>493729600.0</td>\n",
       "    </tr>\n",
       "    <tr>\n",
       "      <th>2010-01-05</th>\n",
       "      <td>7.699643</td>\n",
       "      <td>7.616071</td>\n",
       "      <td>7.656429</td>\n",
       "      <td>6.507526</td>\n",
       "      <td>601904800.0</td>\n",
       "    </tr>\n",
       "    <tr>\n",
       "      <th>2010-01-06</th>\n",
       "      <td>7.686786</td>\n",
       "      <td>7.526786</td>\n",
       "      <td>7.534643</td>\n",
       "      <td>6.404016</td>\n",
       "      <td>552160000.0</td>\n",
       "    </tr>\n",
       "    <tr>\n",
       "      <th>2010-01-07</th>\n",
       "      <td>7.571429</td>\n",
       "      <td>7.466071</td>\n",
       "      <td>7.520714</td>\n",
       "      <td>6.392174</td>\n",
       "      <td>477131200.0</td>\n",
       "    </tr>\n",
       "    <tr>\n",
       "      <th>2010-01-08</th>\n",
       "      <td>7.571429</td>\n",
       "      <td>7.466429</td>\n",
       "      <td>7.570714</td>\n",
       "      <td>6.434673</td>\n",
       "      <td>447610800.0</td>\n",
       "    </tr>\n",
       "    <tr>\n",
       "      <th>...</th>\n",
       "      <td>...</td>\n",
       "      <td>...</td>\n",
       "      <td>...</td>\n",
       "      <td>...</td>\n",
       "      <td>...</td>\n",
       "    </tr>\n",
       "    <tr>\n",
       "      <th>2021-09-24</th>\n",
       "      <td>147.470001</td>\n",
       "      <td>145.559998</td>\n",
       "      <td>146.919998</td>\n",
       "      <td>145.435822</td>\n",
       "      <td>53477900.0</td>\n",
       "    </tr>\n",
       "    <tr>\n",
       "      <th>2021-09-27</th>\n",
       "      <td>145.960007</td>\n",
       "      <td>143.820007</td>\n",
       "      <td>145.369995</td>\n",
       "      <td>143.901489</td>\n",
       "      <td>74150700.0</td>\n",
       "    </tr>\n",
       "    <tr>\n",
       "      <th>2021-09-28</th>\n",
       "      <td>144.750000</td>\n",
       "      <td>141.690002</td>\n",
       "      <td>141.910004</td>\n",
       "      <td>140.476456</td>\n",
       "      <td>108972300.0</td>\n",
       "    </tr>\n",
       "    <tr>\n",
       "      <th>2021-09-29</th>\n",
       "      <td>144.449997</td>\n",
       "      <td>142.029999</td>\n",
       "      <td>142.830002</td>\n",
       "      <td>141.387146</td>\n",
       "      <td>74602000.0</td>\n",
       "    </tr>\n",
       "    <tr>\n",
       "      <th>2021-09-30</th>\n",
       "      <td>144.380005</td>\n",
       "      <td>141.279999</td>\n",
       "      <td>141.500000</td>\n",
       "      <td>140.070587</td>\n",
       "      <td>89056700.0</td>\n",
       "    </tr>\n",
       "  </tbody>\n",
       "</table>\n",
       "<p>2957 rows × 5 columns</p>\n",
       "</div>"
      ],
      "text/plain": [
       "                  High         Low       Close   Adj Close       Volume\n",
       "Date                                                                   \n",
       "2010-01-04    7.660714    7.585000    7.643214    6.496295  493729600.0\n",
       "2010-01-05    7.699643    7.616071    7.656429    6.507526  601904800.0\n",
       "2010-01-06    7.686786    7.526786    7.534643    6.404016  552160000.0\n",
       "2010-01-07    7.571429    7.466071    7.520714    6.392174  477131200.0\n",
       "2010-01-08    7.571429    7.466429    7.570714    6.434673  447610800.0\n",
       "...                ...         ...         ...         ...          ...\n",
       "2021-09-24  147.470001  145.559998  146.919998  145.435822   53477900.0\n",
       "2021-09-27  145.960007  143.820007  145.369995  143.901489   74150700.0\n",
       "2021-09-28  144.750000  141.690002  141.910004  140.476456  108972300.0\n",
       "2021-09-29  144.449997  142.029999  142.830002  141.387146   74602000.0\n",
       "2021-09-30  144.380005  141.279999  141.500000  140.070587   89056700.0\n",
       "\n",
       "[2957 rows x 5 columns]"
      ]
     },
     "execution_count": 57,
     "metadata": {},
     "output_type": "execute_result"
    }
   ],
   "source": [
    "stock_data"
   ]
  },
  {
   "cell_type": "code",
   "execution_count": 20,
   "id": "9b46dd9a",
   "metadata": {},
   "outputs": [
    {
     "name": "stderr",
     "output_type": "stream",
     "text": [
      "C:\\Users\\yotam\\AppData\\Local\\Temp\\ipykernel_7320\\2903581851.py:4: SettingWithCopyWarning: \n",
      "A value is trying to be set on a copy of a slice from a DataFrame.\n",
      "Try using .loc[row_indexer,col_indexer] = value instead\n",
      "\n",
      "See the caveats in the documentation: https://pandas.pydata.org/pandas-docs/stable/user_guide/indexing.html#returning-a-view-versus-a-copy\n",
      "  validation['Predictions'] = predictions\n"
     ]
    },
    {
     "data": {
      "image/png": "[encoded data removed]",
      "text/plain": [
       "<Figure size 1600x800 with 1 Axes>"
      ]
     },
     "metadata": {},
     "output_type": "display_data"
    }
   ],
   "source": [
    "data = stock_data.filter(['Open'])\n",
    "train = data[:training_data_len]\n",
    "validation = data[training_data_len:]\n",
    "validation['Predictions'] = predictions\n",
    "plt.figure(figsize=(16,8))\n",
    "plt.title('Model')\n",
    "plt.xlabel('Date')\n",
    "plt.ylabel('Open Price USD ($)')\n",
    "plt.plot(train)\n",
    "plt.plot(validation[['Open', 'Predictions']])\n",
    "plt.legend(['Train', 'Val', 'Predictions'], loc='lower right')\n",
    "plt.show()"
   ]
  },
  {
   "cell_type": "markdown",
   "id": "f0e81c9b",
   "metadata": {},
   "source": [
    "# now with diff"
   ]
  },
  {
   "cell_type": "code",
   "execution_count": 43,
   "id": "abffb867",
   "metadata": {},
   "outputs": [
    {
     "data": {
      "text/html": [
       "<div>\n",
       "<style scoped>\n",
       "    .dataframe tbody tr th:only-of-type {\n",
       "        vertical-align: middle;\n",
       "    }\n",
       "\n",
       "    .dataframe tbody tr th {\n",
       "        vertical-align: top;\n",
       "    }\n",
       "\n",
       "    .dataframe thead th {\n",
       "        text-align: right;\n",
       "    }\n",
       "</style>\n",
       "<table border=\"1\" class=\"dataframe\">\n",
       "  <thead>\n",
       "    <tr style=\"text-align: right;\">\n",
       "      <th></th>\n",
       "      <th>Open</th>\n",
       "      <th>High</th>\n",
       "      <th>Low</th>\n",
       "      <th>Close</th>\n",
       "      <th>Adj Close</th>\n",
       "      <th>Volume</th>\n",
       "      <th>Open_dif</th>\n",
       "    </tr>\n",
       "    <tr>\n",
       "      <th>Date</th>\n",
       "      <th></th>\n",
       "      <th></th>\n",
       "      <th></th>\n",
       "      <th></th>\n",
       "      <th></th>\n",
       "      <th></th>\n",
       "      <th></th>\n",
       "    </tr>\n",
       "  </thead>\n",
       "  <tbody>\n",
       "    <tr>\n",
       "      <th>2010-01-05</th>\n",
       "      <td>7.664286</td>\n",
       "      <td>7.699643</td>\n",
       "      <td>7.616071</td>\n",
       "      <td>7.656429</td>\n",
       "      <td>6.507527</td>\n",
       "      <td>601904800.0</td>\n",
       "      <td>0.005452</td>\n",
       "    </tr>\n",
       "    <tr>\n",
       "      <th>2010-01-06</th>\n",
       "      <td>7.656429</td>\n",
       "      <td>7.686786</td>\n",
       "      <td>7.526786</td>\n",
       "      <td>7.534643</td>\n",
       "      <td>6.404015</td>\n",
       "      <td>552160000.0</td>\n",
       "      <td>-0.001026</td>\n",
       "    </tr>\n",
       "    <tr>\n",
       "      <th>2010-01-07</th>\n",
       "      <td>7.562500</td>\n",
       "      <td>7.571429</td>\n",
       "      <td>7.466071</td>\n",
       "      <td>7.520714</td>\n",
       "      <td>6.392177</td>\n",
       "      <td>477131200.0</td>\n",
       "      <td>-0.012420</td>\n",
       "    </tr>\n",
       "    <tr>\n",
       "      <th>2010-01-08</th>\n",
       "      <td>7.510714</td>\n",
       "      <td>7.571429</td>\n",
       "      <td>7.466429</td>\n",
       "      <td>7.570714</td>\n",
       "      <td>6.434673</td>\n",
       "      <td>447610800.0</td>\n",
       "      <td>-0.006895</td>\n",
       "    </tr>\n",
       "    <tr>\n",
       "      <th>2010-01-11</th>\n",
       "      <td>7.600000</td>\n",
       "      <td>7.607143</td>\n",
       "      <td>7.444643</td>\n",
       "      <td>7.503929</td>\n",
       "      <td>6.377911</td>\n",
       "      <td>462229600.0</td>\n",
       "      <td>0.011748</td>\n",
       "    </tr>\n",
       "    <tr>\n",
       "      <th>...</th>\n",
       "      <td>...</td>\n",
       "      <td>...</td>\n",
       "      <td>...</td>\n",
       "      <td>...</td>\n",
       "      <td>...</td>\n",
       "      <td>...</td>\n",
       "      <td>...</td>\n",
       "    </tr>\n",
       "    <tr>\n",
       "      <th>2021-09-24</th>\n",
       "      <td>145.660004</td>\n",
       "      <td>147.470001</td>\n",
       "      <td>145.559998</td>\n",
       "      <td>146.919998</td>\n",
       "      <td>145.435822</td>\n",
       "      <td>53477900.0</td>\n",
       "      <td>-0.006797</td>\n",
       "    </tr>\n",
       "    <tr>\n",
       "      <th>2021-09-27</th>\n",
       "      <td>145.470001</td>\n",
       "      <td>145.960007</td>\n",
       "      <td>143.820007</td>\n",
       "      <td>145.369995</td>\n",
       "      <td>143.901474</td>\n",
       "      <td>74150700.0</td>\n",
       "      <td>-0.001306</td>\n",
       "    </tr>\n",
       "    <tr>\n",
       "      <th>2021-09-28</th>\n",
       "      <td>143.250000</td>\n",
       "      <td>144.750000</td>\n",
       "      <td>141.690002</td>\n",
       "      <td>141.910004</td>\n",
       "      <td>140.476425</td>\n",
       "      <td>108972300.0</td>\n",
       "      <td>-0.015497</td>\n",
       "    </tr>\n",
       "    <tr>\n",
       "      <th>2021-09-29</th>\n",
       "      <td>142.470001</td>\n",
       "      <td>144.449997</td>\n",
       "      <td>142.029999</td>\n",
       "      <td>142.830002</td>\n",
       "      <td>141.387161</td>\n",
       "      <td>74602000.0</td>\n",
       "      <td>-0.005475</td>\n",
       "    </tr>\n",
       "    <tr>\n",
       "      <th>2021-09-30</th>\n",
       "      <td>143.660004</td>\n",
       "      <td>144.380005</td>\n",
       "      <td>141.279999</td>\n",
       "      <td>141.500000</td>\n",
       "      <td>140.070572</td>\n",
       "      <td>89056700.0</td>\n",
       "      <td>0.008283</td>\n",
       "    </tr>\n",
       "  </tbody>\n",
       "</table>\n",
       "<p>2956 rows × 7 columns</p>\n",
       "</div>"
      ],
      "text/plain": [
       "                  Open        High         Low       Close   Adj Close  \\\n",
       "Date                                                                     \n",
       "2010-01-05    7.664286    7.699643    7.616071    7.656429    6.507527   \n",
       "2010-01-06    7.656429    7.686786    7.526786    7.534643    6.404015   \n",
       "2010-01-07    7.562500    7.571429    7.466071    7.520714    6.392177   \n",
       "2010-01-08    7.510714    7.571429    7.466429    7.570714    6.434673   \n",
       "2010-01-11    7.600000    7.607143    7.444643    7.503929    6.377911   \n",
       "...                ...         ...         ...         ...         ...   \n",
       "2021-09-24  145.660004  147.470001  145.559998  146.919998  145.435822   \n",
       "2021-09-27  145.470001  145.960007  143.820007  145.369995  143.901474   \n",
       "2021-09-28  143.250000  144.750000  141.690002  141.910004  140.476425   \n",
       "2021-09-29  142.470001  144.449997  142.029999  142.830002  141.387161   \n",
       "2021-09-30  143.660004  144.380005  141.279999  141.500000  140.070572   \n",
       "\n",
       "                 Volume  Open_dif  \n",
       "Date                               \n",
       "2010-01-05  601904800.0  0.005452  \n",
       "2010-01-06  552160000.0 -0.001026  \n",
       "2010-01-07  477131200.0 -0.012420  \n",
       "2010-01-08  447610800.0 -0.006895  \n",
       "2010-01-11  462229600.0  0.011748  \n",
       "...                 ...       ...  \n",
       "2021-09-24   53477900.0 -0.006797  \n",
       "2021-09-27   74150700.0 -0.001306  \n",
       "2021-09-28  108972300.0 -0.015497  \n",
       "2021-09-29   74602000.0 -0.005475  \n",
       "2021-09-30   89056700.0  0.008283  \n",
       "\n",
       "[2956 rows x 7 columns]"
      ]
     },
     "execution_count": 43,
     "metadata": {},
     "output_type": "execute_result"
    }
   ],
   "source": [
    "stock_data"
   ]
  },
  {
   "cell_type": "code",
   "execution_count": 28,
   "id": "7bb9eedf",
   "metadata": {},
   "outputs": [],
   "source": [
    "stock_diff = stock_data.diff()\n"
   ]
  },
  {
   "cell_type": "code",
   "execution_count": 42,
   "id": "2855535c",
   "metadata": {},
   "outputs": [],
   "source": [
    "stock_data['Open_dif'] = stock_diff['Open']/stock_data['Open']\n",
    "stock_data = stock_data.iloc[1:]"
   ]
  },
  {
   "cell_type": "code",
   "execution_count": 44,
   "id": "bcaafb86",
   "metadata": {},
   "outputs": [],
   "source": [
    "trainX = []\n",
    "trainY = []\n",
    "testX = []\n",
    "testY = []\n",
    "n_future = 1   # Number of days we want to look into the future based on the past days.\n",
    "n_past = 42  # Number of past days we want to use to predict the future.\n"
   ]
  },
  {
   "cell_type": "code",
   "execution_count": 45,
   "id": "7caa4d5c",
   "metadata": {},
   "outputs": [],
   "source": [
    "train_df = stock_data.iloc[0:training_data_len]\n",
    "test_df = stock_data.iloc[training_data_len-n_past:]"
   ]
  },
  {
   "cell_type": "code",
   "execution_count": null,
   "id": "d5937128",
   "metadata": {},
   "outputs": [],
   "source": []
  },
  {
   "cell_type": "code",
   "execution_count": 46,
   "id": "3929bff7",
   "metadata": {},
   "outputs": [],
   "source": [
    "scaler = StandardScaler()\n",
    "scaler = scaler.fit(train_df)\n",
    "train_df_scaled = scaler.transform(train_df)\n"
   ]
  },
  {
   "cell_type": "code",
   "execution_count": 47,
   "id": "2c769993",
   "metadata": {},
   "outputs": [],
   "source": [
    "test_df_scaled = scaler.transform(test_df)\n"
   ]
  },
  {
   "cell_type": "code",
   "execution_count": 48,
   "id": "9d8f30d9",
   "metadata": {},
   "outputs": [
    {
     "data": {
      "text/html": [
       "<div>\n",
       "<style scoped>\n",
       "    .dataframe tbody tr th:only-of-type {\n",
       "        vertical-align: middle;\n",
       "    }\n",
       "\n",
       "    .dataframe tbody tr th {\n",
       "        vertical-align: top;\n",
       "    }\n",
       "\n",
       "    .dataframe thead th {\n",
       "        text-align: right;\n",
       "    }\n",
       "</style>\n",
       "<table border=\"1\" class=\"dataframe\">\n",
       "  <thead>\n",
       "    <tr style=\"text-align: right;\">\n",
       "      <th></th>\n",
       "      <th>Open</th>\n",
       "      <th>High</th>\n",
       "      <th>Low</th>\n",
       "      <th>Close</th>\n",
       "      <th>Adj Close</th>\n",
       "      <th>Volume</th>\n",
       "      <th>Open_dif</th>\n",
       "    </tr>\n",
       "    <tr>\n",
       "      <th>Date</th>\n",
       "      <th></th>\n",
       "      <th></th>\n",
       "      <th></th>\n",
       "      <th></th>\n",
       "      <th></th>\n",
       "      <th></th>\n",
       "      <th></th>\n",
       "    </tr>\n",
       "  </thead>\n",
       "  <tbody>\n",
       "    <tr>\n",
       "      <th>2010-01-05</th>\n",
       "      <td>7.664286</td>\n",
       "      <td>7.699643</td>\n",
       "      <td>7.616071</td>\n",
       "      <td>7.656429</td>\n",
       "      <td>6.507527</td>\n",
       "      <td>601904800.0</td>\n",
       "      <td>0.005452</td>\n",
       "    </tr>\n",
       "    <tr>\n",
       "      <th>2010-01-06</th>\n",
       "      <td>7.656429</td>\n",
       "      <td>7.686786</td>\n",
       "      <td>7.526786</td>\n",
       "      <td>7.534643</td>\n",
       "      <td>6.404015</td>\n",
       "      <td>552160000.0</td>\n",
       "      <td>-0.001026</td>\n",
       "    </tr>\n",
       "    <tr>\n",
       "      <th>2010-01-07</th>\n",
       "      <td>7.562500</td>\n",
       "      <td>7.571429</td>\n",
       "      <td>7.466071</td>\n",
       "      <td>7.520714</td>\n",
       "      <td>6.392177</td>\n",
       "      <td>477131200.0</td>\n",
       "      <td>-0.012420</td>\n",
       "    </tr>\n",
       "    <tr>\n",
       "      <th>2010-01-08</th>\n",
       "      <td>7.510714</td>\n",
       "      <td>7.571429</td>\n",
       "      <td>7.466429</td>\n",
       "      <td>7.570714</td>\n",
       "      <td>6.434673</td>\n",
       "      <td>447610800.0</td>\n",
       "      <td>-0.006895</td>\n",
       "    </tr>\n",
       "    <tr>\n",
       "      <th>2010-01-11</th>\n",
       "      <td>7.600000</td>\n",
       "      <td>7.607143</td>\n",
       "      <td>7.444643</td>\n",
       "      <td>7.503929</td>\n",
       "      <td>6.377911</td>\n",
       "      <td>462229600.0</td>\n",
       "      <td>0.011748</td>\n",
       "    </tr>\n",
       "    <tr>\n",
       "      <th>...</th>\n",
       "      <td>...</td>\n",
       "      <td>...</td>\n",
       "      <td>...</td>\n",
       "      <td>...</td>\n",
       "      <td>...</td>\n",
       "      <td>...</td>\n",
       "      <td>...</td>\n",
       "    </tr>\n",
       "    <tr>\n",
       "      <th>2019-05-23</th>\n",
       "      <td>44.950001</td>\n",
       "      <td>45.134998</td>\n",
       "      <td>44.452499</td>\n",
       "      <td>44.915001</td>\n",
       "      <td>43.577549</td>\n",
       "      <td>146118800.0</td>\n",
       "      <td>-0.027030</td>\n",
       "    </tr>\n",
       "    <tr>\n",
       "      <th>2019-05-24</th>\n",
       "      <td>45.049999</td>\n",
       "      <td>45.535000</td>\n",
       "      <td>44.654999</td>\n",
       "      <td>44.742500</td>\n",
       "      <td>43.410183</td>\n",
       "      <td>94858800.0</td>\n",
       "      <td>0.002220</td>\n",
       "    </tr>\n",
       "    <tr>\n",
       "      <th>2019-05-28</th>\n",
       "      <td>44.730000</td>\n",
       "      <td>45.147499</td>\n",
       "      <td>44.477501</td>\n",
       "      <td>44.557499</td>\n",
       "      <td>43.230694</td>\n",
       "      <td>111792800.0</td>\n",
       "      <td>-0.007154</td>\n",
       "    </tr>\n",
       "    <tr>\n",
       "      <th>2019-05-29</th>\n",
       "      <td>44.105000</td>\n",
       "      <td>44.837502</td>\n",
       "      <td>44.000000</td>\n",
       "      <td>44.345001</td>\n",
       "      <td>43.024529</td>\n",
       "      <td>113924800.0</td>\n",
       "      <td>-0.014171</td>\n",
       "    </tr>\n",
       "    <tr>\n",
       "      <th>2019-05-30</th>\n",
       "      <td>44.487499</td>\n",
       "      <td>44.807499</td>\n",
       "      <td>44.167500</td>\n",
       "      <td>44.575001</td>\n",
       "      <td>43.247673</td>\n",
       "      <td>84873600.0</td>\n",
       "      <td>0.008598</td>\n",
       "    </tr>\n",
       "  </tbody>\n",
       "</table>\n",
       "<p>2366 rows × 7 columns</p>\n",
       "</div>"
      ],
      "text/plain": [
       "                 Open       High        Low      Close  Adj Close  \\\n",
       "Date                                                                \n",
       "2010-01-05   7.664286   7.699643   7.616071   7.656429   6.507527   \n",
       "2010-01-06   7.656429   7.686786   7.526786   7.534643   6.404015   \n",
       "2010-01-07   7.562500   7.571429   7.466071   7.520714   6.392177   \n",
       "2010-01-08   7.510714   7.571429   7.466429   7.570714   6.434673   \n",
       "2010-01-11   7.600000   7.607143   7.444643   7.503929   6.377911   \n",
       "...               ...        ...        ...        ...        ...   \n",
       "2019-05-23  44.950001  45.134998  44.452499  44.915001  43.577549   \n",
       "2019-05-24  45.049999  45.535000  44.654999  44.742500  43.410183   \n",
       "2019-05-28  44.730000  45.147499  44.477501  44.557499  43.230694   \n",
       "2019-05-29  44.105000  44.837502  44.000000  44.345001  43.024529   \n",
       "2019-05-30  44.487499  44.807499  44.167500  44.575001  43.247673   \n",
       "\n",
       "                 Volume  Open_dif  \n",
       "Date                               \n",
       "2010-01-05  601904800.0  0.005452  \n",
       "2010-01-06  552160000.0 -0.001026  \n",
       "2010-01-07  477131200.0 -0.012420  \n",
       "2010-01-08  447610800.0 -0.006895  \n",
       "2010-01-11  462229600.0  0.011748  \n",
       "...                 ...       ...  \n",
       "2019-05-23  146118800.0 -0.027030  \n",
       "2019-05-24   94858800.0  0.002220  \n",
       "2019-05-28  111792800.0 -0.007154  \n",
       "2019-05-29  113924800.0 -0.014171  \n",
       "2019-05-30   84873600.0  0.008598  \n",
       "\n",
       "[2366 rows x 7 columns]"
      ]
     },
     "execution_count": 48,
     "metadata": {},
     "output_type": "execute_result"
    }
   ],
   "source": [
    "train_df"
   ]
  },
  {
   "cell_type": "code",
   "execution_count": 49,
   "id": "3042f399",
   "metadata": {},
   "outputs": [
    {
     "name": "stdout",
     "output_type": "stream",
     "text": [
      "trainX shape == (2324, 42, 7).\n",
      "trainY shape == (2324, 1).\n"
     ]
    }
   ],
   "source": [
    "for i in range(n_past, len(train_df_scaled) - n_future +1):\n",
    "    trainX.append(train_df_scaled[i - n_past:i, 0:train_df_scaled.shape[1]])\n",
    "    trainY.append(train_df_scaled[i + n_future - 1:i + n_future, 6])\n",
    "\n",
    "trainX, trainY = np.array(trainX), np.array(trainY)\n",
    "\n",
    "print('trainX shape == {}.'.format(trainX.shape))\n",
    "print('trainY shape == {}.'.format(trainY.shape))\n"
   ]
  },
  {
   "cell_type": "code",
   "execution_count": 50,
   "id": "d1663890",
   "metadata": {},
   "outputs": [
    {
     "name": "stdout",
     "output_type": "stream",
     "text": [
      "testX shape == (590, 42, 7).\n",
      "testY shape == (590, 1).\n"
     ]
    }
   ],
   "source": [
    "for i in range(n_past, len(test_df_scaled) - n_future +1):\n",
    "    testX.append(test_df_scaled[i - n_past:i, 0:test_df_scaled.shape[1]])\n",
    "    testY.append(test_df_scaled[i + n_future - 1:i + n_future, 6])\n",
    "\n",
    "testX, testY = np.array(testX), np.array(testY)\n",
    "\n",
    "print('testX shape == {}.'.format(testX.shape))\n",
    "print('testY shape == {}.'.format(testY.shape))\n"
   ]
  },
  {
   "cell_type": "code",
   "execution_count": 51,
   "id": "68d2f5b9",
   "metadata": {},
   "outputs": [],
   "source": [
    "model = Sequential()\n",
    "model.add(LSTM(64, activation='relu', input_shape=(trainX.shape[1], trainX.shape[2]), return_sequences=True))\n",
    "model.add(LSTM(32, activation='relu', return_sequences=False))\n",
    "model.add(Dropout(0.2))\n",
    "model.add(Dense(trainY.shape[1]))\n"
   ]
  },
  {
   "cell_type": "code",
   "execution_count": 52,
   "id": "0833fc51",
   "metadata": {},
   "outputs": [
    {
     "name": "stdout",
     "output_type": "stream",
     "text": [
      "Model: \"sequential_2\"\n",
      "_________________________________________________________________\n",
      " Layer (type)                Output Shape              Param #   \n",
      "=================================================================\n",
      " lstm_4 (LSTM)               (None, 42, 64)            18432     \n",
      "                                                                 \n",
      " lstm_5 (LSTM)               (None, 32)                12416     \n",
      "                                                                 \n",
      " dropout_2 (Dropout)         (None, 32)                0         \n",
      "                                                                 \n",
      " dense_2 (Dense)             (None, 1)                 33        \n",
      "                                                                 \n",
      "=================================================================\n",
      "Total params: 30881 (120.63 KB)\n",
      "Trainable params: 30881 (120.63 KB)\n",
      "Non-trainable params: 0 (0.00 Byte)\n",
      "_________________________________________________________________\n"
     ]
    }
   ],
   "source": [
    "model.compile(optimizer='adam', loss='mse')\n",
    "model.summary()"
   ]
  },
  {
   "cell_type": "code",
   "execution_count": 53,
   "id": "3d34c73a",
   "metadata": {},
   "outputs": [
    {
     "name": "stdout",
     "output_type": "stream",
     "text": [
      "Epoch 1/30\n",
      "131/131 [==============================] - 5s 23ms/step - loss: 0.9954 - val_loss: 1.1221\n",
      "Epoch 2/30\n",
      "131/131 [==============================] - 3s 19ms/step - loss: 0.9921 - val_loss: 1.1131\n",
      "Epoch 3/30\n",
      "131/131 [==============================] - 3s 20ms/step - loss: 0.9888 - val_loss: 1.1106\n",
      "Epoch 4/30\n",
      "131/131 [==============================] - 3s 20ms/step - loss: 0.9907 - val_loss: 1.1142\n",
      "Epoch 5/30\n",
      "131/131 [==============================] - 3s 20ms/step - loss: 0.9902 - val_loss: 1.1144\n",
      "Epoch 6/30\n",
      "131/131 [==============================] - 3s 20ms/step - loss: 0.9897 - val_loss: 1.1141\n",
      "Epoch 7/30\n",
      "131/131 [==============================] - 3s 22ms/step - loss: 0.9885 - val_loss: 1.1139\n",
      "Epoch 8/30\n",
      "131/131 [==============================] - 3s 22ms/step - loss: 0.9865 - val_loss: 1.1138\n",
      "Epoch 9/30\n",
      "131/131 [==============================] - 3s 23ms/step - loss: 0.9866 - val_loss: 1.1894\n",
      "Epoch 10/30\n",
      "131/131 [==============================] - 3s 21ms/step - loss: 0.9820 - val_loss: 1.1146\n",
      "Epoch 11/30\n",
      "131/131 [==============================] - 3s 22ms/step - loss: 0.9812 - val_loss: 1.1109\n",
      "Epoch 12/30\n",
      "131/131 [==============================] - 3s 22ms/step - loss: 0.9680 - val_loss: 1.1218\n",
      "Epoch 13/30\n",
      "131/131 [==============================] - 3s 22ms/step - loss: 0.9580 - val_loss: 1.1486\n",
      "Epoch 14/30\n",
      "131/131 [==============================] - 3s 22ms/step - loss: 0.9564 - val_loss: 1.1296\n",
      "Epoch 15/30\n",
      "131/131 [==============================] - 3s 22ms/step - loss: 0.9580 - val_loss: 1.1430\n",
      "Epoch 16/30\n",
      "131/131 [==============================] - 3s 22ms/step - loss: 0.9484 - val_loss: 1.1197\n",
      "Epoch 17/30\n",
      "131/131 [==============================] - 3s 22ms/step - loss: 0.9376 - val_loss: 1.1255\n",
      "Epoch 18/30\n",
      "131/131 [==============================] - 3s 23ms/step - loss: 0.9305 - val_loss: 1.1301\n",
      "Epoch 19/30\n",
      "131/131 [==============================] - 3s 22ms/step - loss: 0.9361 - val_loss: 1.1690\n",
      "Epoch 20/30\n",
      "131/131 [==============================] - 3s 22ms/step - loss: 0.9370 - val_loss: 1.1754\n",
      "Epoch 21/30\n",
      "131/131 [==============================] - 3s 23ms/step - loss: 0.9309 - val_loss: 1.1706\n",
      "Epoch 22/30\n",
      "131/131 [==============================] - 3s 22ms/step - loss: 0.9323 - val_loss: 1.1370\n",
      "Epoch 23/30\n",
      "131/131 [==============================] - 3s 23ms/step - loss: 0.9265 - val_loss: 1.1501\n",
      "Epoch 24/30\n",
      "131/131 [==============================] - 3s 24ms/step - loss: 0.9389 - val_loss: 1.1632\n",
      "Epoch 25/30\n",
      "131/131 [==============================] - 3s 22ms/step - loss: 0.9303 - val_loss: 1.1630\n",
      "Epoch 26/30\n",
      "131/131 [==============================] - 3s 22ms/step - loss: 0.9132 - val_loss: 1.1934\n",
      "Epoch 27/30\n",
      "131/131 [==============================] - 3s 23ms/step - loss: 0.9237 - val_loss: 1.2193\n",
      "Epoch 28/30\n",
      "131/131 [==============================] - 3s 23ms/step - loss: 0.9117 - val_loss: 1.1937\n",
      "Epoch 29/30\n",
      "131/131 [==============================] - 3s 22ms/step - loss: 0.9202 - val_loss: 1.2033\n",
      "Epoch 30/30\n",
      "131/131 [==============================] - 3s 26ms/step - loss: 0.9119 - val_loss: 1.2135\n"
     ]
    },
    {
     "data": {
      "text/plain": [
       "<matplotlib.legend.Legend at 0x214a0ab4430>"
      ]
     },
     "execution_count": 53,
     "metadata": {},
     "output_type": "execute_result"
    },
    {
     "data": {
      "image/png": "[encoded data removed]",
      "text/plain": [
       "<Figure size 640x480 with 1 Axes>"
      ]
     },
     "metadata": {},
     "output_type": "display_data"
    }
   ],
   "source": [
    "history = model.fit(trainX, trainY, epochs=30, batch_size=16, validation_split=0.1, verbose=1)\n",
    "\n",
    "plt.plot(history.history['loss'], label='Training loss')\n",
    "plt.plot(history.history['val_loss'], label='Validation loss')\n",
    "plt.legend()\n"
   ]
  },
  {
   "cell_type": "code",
   "execution_count": 54,
   "id": "37244e61",
   "metadata": {},
   "outputs": [
    {
     "name": "stdout",
     "output_type": "stream",
     "text": [
      "19/19 [==============================] - 0s 10ms/step\n"
     ]
    },
    {
     "data": {
      "text/plain": [
       "22.31248984847949"
      ]
     },
     "execution_count": 54,
     "metadata": {},
     "output_type": "execute_result"
    }
   ],
   "source": [
    "predictions = model.predict(testX)\n",
    "prediction_copies = np.repeat(predictions, test_df.shape[1], axis=-1)\n",
    "\n",
    "predictions = scaler.inverse_transform(prediction_copies)[:,0]\n",
    "rmse = np.sqrt(np.mean(predictions - testY)**2)\n",
    "rmse\n"
   ]
  },
  {
   "cell_type": "code",
   "execution_count": 55,
   "id": "e85c6fd7",
   "metadata": {},
   "outputs": [
    {
     "name": "stdout",
     "output_type": "stream",
     "text": [
      "gees 0:  0.06563914280916203\n"
     ]
    }
   ],
   "source": [
    "print(\"gees 0: \",np.sqrt(np.mean(-testY)**2))"
   ]
  },
  {
   "cell_type": "code",
   "execution_count": 57,
   "id": "51ce9d26",
   "metadata": {},
   "outputs": [
    {
     "name": "stderr",
     "output_type": "stream",
     "text": [
      "C:\\Users\\yotam\\AppData\\Local\\Temp\\ipykernel_7320\\646207287.py:4: SettingWithCopyWarning: \n",
      "A value is trying to be set on a copy of a slice from a DataFrame.\n",
      "Try using .loc[row_indexer,col_indexer] = value instead\n",
      "\n",
      "See the caveats in the documentation: https://pandas.pydata.org/pandas-docs/stable/user_guide/indexing.html#returning-a-view-versus-a-copy\n",
      "  validation['Predictions'] = predictions\n"
     ]
    },
    {
     "data": {
      "image/png": "[encoded data removed]",
      "text/plain": [
       "<Figure size 1600x800 with 1 Axes>"
      ]
     },
     "metadata": {},
     "output_type": "display_data"
    }
   ],
   "source": [
    "data = stock_data.filter(['Open_dif'])\n",
    "train = data[:training_data_len]\n",
    "validation = data[training_data_len:]\n",
    "validation['Predictions'] = predictions\n",
    "plt.figure(figsize=(16,8))\n",
    "plt.title('Model')\n",
    "plt.xlabel('Date')\n",
    "plt.ylabel('Open_diff Price USD ($)')\n",
    "plt.plot(train)\n",
    "plt.plot(validation[['Open_dif', 'Predictions']])\n",
    "plt.legend(['Train', 'Val', 'Predictions'], loc='lower right')\n",
    "plt.show()"
   ]
  }
 ],
 "metadata": {
  "kernelspec": {
   "display_name": "Python 3 (ipykernel)",
   "language": "python",
   "name": "python3"
  },
  "language_info": {
   "codemirror_mode": {
    "name": "ipython",
    "version": 3
   },
   "file_extension": ".py",
   "mimetype": "text/x-python",
   "name": "python",
   "nbconvert_exporter": "python",
   "pygments_lexer": "ipython3",
   "version": "3.9.13"
  }
 },
 "nbformat": 4,
 "nbformat_minor": 5
}
