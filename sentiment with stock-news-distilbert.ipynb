{
 "cells": [
  {
   "cell_type": "code",
   "execution_count": 58,
   "id": "95de41d4",
   "metadata": {},
   "outputs": [],
   "source": [
    "import pandas as pd\n",
    "import numpy as np\n"
   ]
  },
  {
   "cell_type": "code",
   "execution_count": 4,
   "id": "0c027126",
   "metadata": {},
   "outputs": [
    {
     "name": "stdout",
     "output_type": "stream",
     "text": [
      "Defaulting to user installation because normal site-packages is not writeable\n",
      "Requirement already satisfied: transformers in c:\\users\\yotam\\appdata\\roaming\\python\\python39\\site-packages (4.30.2)\n",
      "Requirement already satisfied: tqdm>=4.27 in c:\\programdata\\anaconda3\\lib\\site-packages (from transformers) (4.64.1)\n",
      "Requirement already satisfied: packaging>=20.0 in c:\\programdata\\anaconda3\\lib\\site-packages (from transformers) (21.3)\n",
      "Requirement already satisfied: safetensors>=0.3.1 in c:\\users\\yotam\\appdata\\roaming\\python\\python39\\site-packages (from transformers) (0.3.1)\n",
      "Requirement already satisfied: regex!=2019.12.17 in c:\\programdata\\anaconda3\\lib\\site-packages (from transformers) (2022.7.9)\n",
      "Requirement already satisfied: requests in c:\\programdata\\anaconda3\\lib\\site-packages (from transformers) (2.28.1)\n",
      "Requirement already satisfied: pyyaml>=5.1 in c:\\programdata\\anaconda3\\lib\\site-packages (from transformers) (6.0)\n",
      "Requirement already satisfied: tokenizers!=0.11.3,<0.14,>=0.11.1 in c:\\users\\yotam\\appdata\\roaming\\python\\python39\\site-packages (from transformers) (0.13.3)\n",
      "Requirement already satisfied: numpy>=1.17 in c:\\users\\yotam\\appdata\\roaming\\python\\python39\\site-packages (from transformers) (1.24.3)\n",
      "Requirement already satisfied: filelock in c:\\programdata\\anaconda3\\lib\\site-packages (from transformers) (3.6.0)\n",
      "Requirement already satisfied: huggingface-hub<1.0,>=0.14.1 in c:\\users\\yotam\\appdata\\roaming\\python\\python39\\site-packages (from transformers) (0.16.4)\n",
      "Requirement already satisfied: fsspec in c:\\programdata\\anaconda3\\lib\\site-packages (from huggingface-hub<1.0,>=0.14.1->transformers) (2022.7.1)\n",
      "Requirement already satisfied: typing-extensions>=3.7.4.3 in c:\\programdata\\anaconda3\\lib\\site-packages (from huggingface-hub<1.0,>=0.14.1->transformers) (4.3.0)\n",
      "Requirement already satisfied: pyparsing!=3.0.5,>=2.0.2 in c:\\programdata\\anaconda3\\lib\\site-packages (from packaging>=20.0->transformers) (3.0.9)\n",
      "Requirement already satisfied: colorama in c:\\programdata\\anaconda3\\lib\\site-packages (from tqdm>=4.27->transformers) (0.4.5)\n",
      "Requirement already satisfied: charset-normalizer<3,>=2 in c:\\programdata\\anaconda3\\lib\\site-packages (from requests->transformers) (2.0.4)\n",
      "Requirement already satisfied: urllib3<1.27,>=1.21.1 in c:\\programdata\\anaconda3\\lib\\site-packages (from requests->transformers) (1.26.11)\n",
      "Requirement already satisfied: idna<4,>=2.5 in c:\\programdata\\anaconda3\\lib\\site-packages (from requests->transformers) (3.3)\n",
      "Requirement already satisfied: certifi>=2017.4.17 in c:\\programdata\\anaconda3\\lib\\site-packages (from requests->transformers) (2022.9.14)\n",
      "Defaulting to user installation because normal site-packages is not writeable\n",
      "Collecting PyTorch\n",
      "  Downloading pytorch-1.0.2.tar.gz (689 bytes)\n",
      "  Preparing metadata (setup.py): started\n",
      "  Preparing metadata (setup.py): finished with status 'done'\n",
      "Building wheels for collected packages: PyTorch\n",
      "  Building wheel for PyTorch (setup.py): started\n",
      "  Building wheel for PyTorch (setup.py): finished with status 'error'\n",
      "  Running setup.py clean for PyTorch\n",
      "Failed to build PyTorch\n",
      "Installing collected packages: PyTorch\n",
      "  Running setup.py install for PyTorch: started\n",
      "  Running setup.py install for PyTorch: finished with status 'error'\n"
     ]
    },
    {
     "name": "stderr",
     "output_type": "stream",
     "text": [
      "  error: subprocess-exited-with-error\n",
      "  \n",
      "  python setup.py bdist_wheel did not run successfully.\n",
      "  exit code: 1\n",
      "  \n",
      "  [6 lines of output]\n",
      "  Traceback (most recent call last):\n",
      "    File \"<string>\", line 2, in <module>\n",
      "    File \"<pip-setuptools-caller>\", line 34, in <module>\n",
      "    File \"C:\\Users\\yotam\\AppData\\Local\\Temp\\pip-install-pnaz4dcs\\pytorch_f147a3780d254a7ab8995fddfd61c085\\setup.py\", line 15, in <module>\n",
      "      raise Exception(message)\n",
      "  Exception: You tried to install \"pytorch\". The package named for PyTorch is \"torch\"\n",
      "  [end of output]\n",
      "  \n",
      "  note: This error originates from a subprocess, and is likely not a problem with pip.\n",
      "  ERROR: Failed building wheel for PyTorch\n",
      "  error: subprocess-exited-with-error\n",
      "  \n",
      "  Running setup.py install for PyTorch did not run successfully.\n",
      "  exit code: 1\n",
      "  \n",
      "  [6 lines of output]\n",
      "  Traceback (most recent call last):\n",
      "    File \"<string>\", line 2, in <module>\n",
      "    File \"<pip-setuptools-caller>\", line 34, in <module>\n",
      "    File \"C:\\Users\\yotam\\AppData\\Local\\Temp\\pip-install-pnaz4dcs\\pytorch_f147a3780d254a7ab8995fddfd61c085\\setup.py\", line 11, in <module>\n",
      "      raise Exception(message)\n",
      "  Exception: You tried to install \"pytorch\". The package named for PyTorch is \"torch\"\n",
      "  [end of output]\n",
      "  \n",
      "  note: This error originates from a subprocess, and is likely not a problem with pip.\n",
      "error: legacy-install-failure\n",
      "\n",
      "Encountered error while trying to install package.\n",
      "\n",
      "PyTorch\n",
      "\n",
      "note: This is an issue with the package mentioned above, not pip.\n",
      "hint: See above for output from the failure.\n"
     ]
    }
   ],
   "source": [
    "!pip install transformers\n"
   ]
  },
  {
   "cell_type": "code",
   "execution_count": 6,
   "id": "45919eab",
   "metadata": {},
   "outputs": [
    {
     "name": "stdout",
     "output_type": "stream",
     "text": [
      "Defaulting to user installation because normal site-packages is not writeable\n",
      "Collecting torch\n",
      "  Downloading torch-2.0.1-cp39-cp39-win_amd64.whl (172.4 MB)\n",
      "     ------------------------------------ 172.4/172.4 MB 688.9 kB/s eta 0:00:00\n",
      "Requirement already satisfied: sympy in c:\\programdata\\anaconda3\\lib\\site-packages (from torch) (1.10.1)\n",
      "Requirement already satisfied: jinja2 in c:\\programdata\\anaconda3\\lib\\site-packages (from torch) (2.11.3)\n",
      "Requirement already satisfied: networkx in c:\\programdata\\anaconda3\\lib\\site-packages (from torch) (2.8.4)\n",
      "Requirement already satisfied: typing-extensions in c:\\programdata\\anaconda3\\lib\\site-packages (from torch) (4.3.0)\n",
      "Requirement already satisfied: filelock in c:\\programdata\\anaconda3\\lib\\site-packages (from torch) (3.6.0)\n",
      "Requirement already satisfied: MarkupSafe>=0.23 in c:\\programdata\\anaconda3\\lib\\site-packages (from jinja2->torch) (2.0.1)\n",
      "Requirement already satisfied: mpmath>=0.19 in c:\\programdata\\anaconda3\\lib\\site-packages (from sympy->torch) (1.2.1)\n",
      "Installing collected packages: torch\n",
      "Successfully installed torch-2.0.1\n"
     ]
    },
    {
     "name": "stderr",
     "output_type": "stream",
     "text": [
      "  WARNING: The scripts convert-caffe2-to-onnx.exe, convert-onnx-to-caffe2.exe and torchrun.exe are installed in 'C:\\Users\\yotam\\AppData\\Roaming\\Python\\Python39\\Scripts' which is not on PATH.\n",
      "  Consider adding this directory to PATH or, if you prefer to suppress this warning, use --no-warn-script-location.\n"
     ]
    }
   ],
   "source": [
    "!pip install torch"
   ]
  },
  {
   "cell_type": "markdown",
   "id": "2befb4a3",
   "metadata": {},
   "source": [
    "# the model"
   ]
  },
  {
   "cell_type": "code",
   "execution_count": 206,
   "id": "8412c90c",
   "metadata": {},
   "outputs": [],
   "source": [
    "from transformers import AutoModelForSequenceClassification, AutoTokenizer,TFAutoModelForSequenceClassification\n",
    "import torch\n",
    "\n",
    "def santiment_prediction(data,col_name,model=None,tokenizer = None):\n",
    "    if not model:\n",
    "        model = TFAutoModelForSequenceClassification.from_pretrained(\"KernAI/stock-news-distilbert\",from_pt=True)\n",
    "    if not tokenizer:\n",
    "        tokenizer = AutoTokenizer.from_pretrained(\"KernAI/stock-news-distilbert\")\n",
    "    classifier = pipeline(\"text-classification\", model=model, tokenizer=tokenizer)\n",
    "    data[\"santiment_pred\"] =data[col_name].apply(lambda sent: list(classifier(sent)[0].values()))\n",
    "    data[\"power_pred\"] = data['santiment_pred'].apply(lambda a: a[1])\n",
    "    data['santiment_pred'] = data['santiment_pred'].apply(lambda a: a[0])\n",
    "    return data\n",
    "    "
   ]
  },
  {
   "cell_type": "code",
   "execution_count": 207,
   "id": "ca4473a5",
   "metadata": {},
   "outputs": [
    {
     "name": "stderr",
     "output_type": "stream",
     "text": [
      "All PyTorch model weights were used when initializing TFDistilBertForSequenceClassification.\n",
      "\n",
      "All the weights of TFDistilBertForSequenceClassification were initialized from the PyTorch model.\n",
      "If your task is similar to the task the model of the checkpoint was trained on, you can already use TFDistilBertForSequenceClassification for predictions without further training.\n"
     ]
    }
   ],
   "source": [
    "data_small = data.sample(25)\n",
    "data_small = santiment_prediction(data_small,'Sentence')"
   ]
  },
  {
   "cell_type": "markdown",
   "id": "09616981",
   "metadata": {},
   "source": [
    "# another way:\n",
    "https://www.kaggle.com/code/pratul007/lstm-75-accuracy-word-cloud"
   ]
  },
  {
   "cell_type": "markdown",
   "id": "aa05905e",
   "metadata": {},
   "source": [
    "# FinancialBERT-Sentiment-Analysis "
   ]
  },
  {
   "cell_type": "code",
   "execution_count": 215,
   "id": "1f6814e0",
   "metadata": {},
   "outputs": [
    {
     "name": "stderr",
     "output_type": "stream",
     "text": [
      "Some weights of the PyTorch model were not used when initializing the TF 2.0 model TFBertForSequenceClassification: ['bert.embeddings.position_ids']\n",
      "- This IS expected if you are initializing TFBertForSequenceClassification from a PyTorch model trained on another task or with another architecture (e.g. initializing a TFBertForSequenceClassification model from a BertForPreTraining model).\n",
      "- This IS NOT expected if you are initializing TFBertForSequenceClassification from a PyTorch model that you expect to be exactly identical (e.g. initializing a TFBertForSequenceClassification model from a BertForSequenceClassification model).\n",
      "All the weights of TFBertForSequenceClassification were initialized from the PyTorch model.\n",
      "If your task is similar to the task the model of the checkpoint was trained on, you can already use TFBertForSequenceClassification for predictions without further training.\n"
     ]
    }
   ],
   "source": [
    "from transformers import BertTokenizer, BertForSequenceClassification,TFBertForSequenceClassification\n",
    "from transformers import pipeline\n",
    "\n",
    "model = TFBertForSequenceClassification.from_pretrained(\"ahmedrachid/FinancialBERT-Sentiment-Analysis\",num_labels=3,from_pt=True)\n",
    "tokenizer = BertTokenizer.from_pretrained(\"ahmedrachid/FinancialBERT-Sentiment-Analysis\")\n",
    "\n",
    "nlp = pipeline(\"sentiment-analysis\", model=model, tokenizer=tokenizer)\n",
    "data_small = data.sample(500)\n",
    "data_small[\"santiment_pred\"] =data_small['Sentence'].apply(lambda sent: list(classifier(sent)[0].values()))\n",
    "data_small[\"power_pred\"] = data_small['santiment_pred'].apply(lambda a: a[1])\n",
    "data_small['santiment_pred'] = data_small['santiment_pred'].apply(lambda a: a[0])"
   ]
  },
  {
   "cell_type": "code",
   "execution_count": 216,
   "id": "2aa90625",
   "metadata": {},
   "outputs": [
    {
     "name": "stdout",
     "output_type": "stream",
     "text": [
      "right rate:  0.596\n",
      "very wrong rate:  0.028\n"
     ]
    }
   ],
   "source": [
    "data_small[\"right\"] = np.where(data_small['Sentiment']==data_small['santiment_pred'],1,0)\n",
    "data_small[\"wrong\"] = np.where(data_small['Sentiment']==data_small['santiment_pred'],0,1)\n",
    "\n",
    "data_small[\"strongly_wrong\"] =np.where(data_small['Sentiment']!=data_small['santiment_pred'] ,1,0)\n",
    "data_small[\"strongly_wrong\"] =np.where(data_small['Sentiment']=='neutral' ,0,data_small[\"strongly_wrong\"])\n",
    "data_small[\"strongly_wrong\"] =np.where(data_small['santiment_pred']=='neutral' ,0,data_small[\"strongly_wrong\"])\n",
    "\n",
    "print(\"right rate: \",data_small[\"right\"].sum()/data_small[\"right\"].count())\n",
    "print(\"very wrong rate: \",data_small['strongly_wrong'].sum()/data_small[\"strongly_wrong\"].count())"
   ]
  },
  {
   "cell_type": "code",
   "execution_count": 217,
   "id": "efe3e391",
   "metadata": {},
   "outputs": [
    {
     "data": {
      "text/html": [
       "<div>\n",
       "<style scoped>\n",
       "    .dataframe tbody tr th:only-of-type {\n",
       "        vertical-align: middle;\n",
       "    }\n",
       "\n",
       "    .dataframe tbody tr th {\n",
       "        vertical-align: top;\n",
       "    }\n",
       "\n",
       "    .dataframe thead th {\n",
       "        text-align: right;\n",
       "    }\n",
       "</style>\n",
       "<table border=\"1\" class=\"dataframe\">\n",
       "  <thead>\n",
       "    <tr style=\"text-align: right;\">\n",
       "      <th></th>\n",
       "      <th>Sentence</th>\n",
       "      <th>Sentiment</th>\n",
       "      <th>santiment_pred</th>\n",
       "      <th>power_pred</th>\n",
       "      <th>right</th>\n",
       "      <th>wrong</th>\n",
       "      <th>strongly_wrong</th>\n",
       "    </tr>\n",
       "  </thead>\n",
       "  <tbody>\n",
       "    <tr>\n",
       "      <th>2561</th>\n",
       "      <td>`` The Government has had a very professional ...</td>\n",
       "      <td>positive</td>\n",
       "      <td>neutral</td>\n",
       "      <td>0.625354</td>\n",
       "      <td>0</td>\n",
       "      <td>1</td>\n",
       "      <td>0</td>\n",
       "    </tr>\n",
       "    <tr>\n",
       "      <th>1754</th>\n",
       "      <td>1 Block lamp Harri Koskinen 's light was intro...</td>\n",
       "      <td>positive</td>\n",
       "      <td>positive</td>\n",
       "      <td>0.993958</td>\n",
       "      <td>1</td>\n",
       "      <td>0</td>\n",
       "      <td>0</td>\n",
       "    </tr>\n",
       "    <tr>\n",
       "      <th>4599</th>\n",
       "      <td>Operating profit fell to EUR 6.2 mn from EUR 8...</td>\n",
       "      <td>neutral</td>\n",
       "      <td>negative</td>\n",
       "      <td>0.997797</td>\n",
       "      <td>0</td>\n",
       "      <td>1</td>\n",
       "      <td>0</td>\n",
       "    </tr>\n",
       "    <tr>\n",
       "      <th>1759</th>\n",
       "      <td>4 January 2011 - Finnish media company Alma Me...</td>\n",
       "      <td>neutral</td>\n",
       "      <td>positive</td>\n",
       "      <td>0.944086</td>\n",
       "      <td>0</td>\n",
       "      <td>1</td>\n",
       "      <td>0</td>\n",
       "    </tr>\n",
       "    <tr>\n",
       "      <th>4171</th>\n",
       "      <td>In Lithuania , operating profit rose to EUR 19...</td>\n",
       "      <td>positive</td>\n",
       "      <td>positive</td>\n",
       "      <td>0.996990</td>\n",
       "      <td>1</td>\n",
       "      <td>0</td>\n",
       "      <td>0</td>\n",
       "    </tr>\n",
       "    <tr>\n",
       "      <th>...</th>\n",
       "      <td>...</td>\n",
       "      <td>...</td>\n",
       "      <td>...</td>\n",
       "      <td>...</td>\n",
       "      <td>...</td>\n",
       "      <td>...</td>\n",
       "      <td>...</td>\n",
       "    </tr>\n",
       "    <tr>\n",
       "      <th>3683</th>\n",
       "      <td>MegaFon 's subscriber base increased 16.1 % in...</td>\n",
       "      <td>positive</td>\n",
       "      <td>positive</td>\n",
       "      <td>0.997880</td>\n",
       "      <td>1</td>\n",
       "      <td>0</td>\n",
       "      <td>0</td>\n",
       "    </tr>\n",
       "    <tr>\n",
       "      <th>2273</th>\n",
       "      <td>The Stena Poseidon is a so-called Panamax tank...</td>\n",
       "      <td>neutral</td>\n",
       "      <td>positive</td>\n",
       "      <td>0.933656</td>\n",
       "      <td>0</td>\n",
       "      <td>1</td>\n",
       "      <td>0</td>\n",
       "    </tr>\n",
       "    <tr>\n",
       "      <th>1132</th>\n",
       "      <td>Public services will also be available .</td>\n",
       "      <td>neutral</td>\n",
       "      <td>positive</td>\n",
       "      <td>0.830922</td>\n",
       "      <td>0</td>\n",
       "      <td>1</td>\n",
       "      <td>0</td>\n",
       "    </tr>\n",
       "    <tr>\n",
       "      <th>5506</th>\n",
       "      <td>Cargo volume increased by approximately 5 % .</td>\n",
       "      <td>positive</td>\n",
       "      <td>positive</td>\n",
       "      <td>0.995506</td>\n",
       "      <td>1</td>\n",
       "      <td>0</td>\n",
       "      <td>0</td>\n",
       "    </tr>\n",
       "    <tr>\n",
       "      <th>2776</th>\n",
       "      <td>However , the orders received during the perio...</td>\n",
       "      <td>neutral</td>\n",
       "      <td>negative</td>\n",
       "      <td>0.995544</td>\n",
       "      <td>0</td>\n",
       "      <td>1</td>\n",
       "      <td>0</td>\n",
       "    </tr>\n",
       "  </tbody>\n",
       "</table>\n",
       "<p>500 rows × 7 columns</p>\n",
       "</div>"
      ],
      "text/plain": [
       "                                               Sentence Sentiment  \\\n",
       "2561  `` The Government has had a very professional ...  positive   \n",
       "1754  1 Block lamp Harri Koskinen 's light was intro...  positive   \n",
       "4599  Operating profit fell to EUR 6.2 mn from EUR 8...   neutral   \n",
       "1759  4 January 2011 - Finnish media company Alma Me...   neutral   \n",
       "4171  In Lithuania , operating profit rose to EUR 19...  positive   \n",
       "...                                                 ...       ...   \n",
       "3683  MegaFon 's subscriber base increased 16.1 % in...  positive   \n",
       "2273  The Stena Poseidon is a so-called Panamax tank...   neutral   \n",
       "1132           Public services will also be available .   neutral   \n",
       "5506      Cargo volume increased by approximately 5 % .  positive   \n",
       "2776  However , the orders received during the perio...   neutral   \n",
       "\n",
       "     santiment_pred  power_pred  right  wrong  strongly_wrong  \n",
       "2561        neutral    0.625354      0      1               0  \n",
       "1754       positive    0.993958      1      0               0  \n",
       "4599       negative    0.997797      0      1               0  \n",
       "1759       positive    0.944086      0      1               0  \n",
       "4171       positive    0.996990      1      0               0  \n",
       "...             ...         ...    ...    ...             ...  \n",
       "3683       positive    0.997880      1      0               0  \n",
       "2273       positive    0.933656      0      1               0  \n",
       "1132       positive    0.830922      0      1               0  \n",
       "5506       positive    0.995506      1      0               0  \n",
       "2776       negative    0.995544      0      1               0  \n",
       "\n",
       "[500 rows x 7 columns]"
      ]
     },
     "execution_count": 217,
     "metadata": {},
     "output_type": "execute_result"
    }
   ],
   "source": [
    "data_small"
   ]
  },
  {
   "cell_type": "markdown",
   "id": "3c541791",
   "metadata": {},
   "source": [
    "# bert-base-multilingual-uncased-sentiment"
   ]
  },
  {
   "cell_type": "code",
   "execution_count": 219,
   "id": "97c5cb63",
   "metadata": {},
   "outputs": [
    {
     "name": "stderr",
     "output_type": "stream",
     "text": [
      "Some layers from the model checkpoint at nlptown/bert-base-multilingual-uncased-sentiment were not used when initializing TFBertForSequenceClassification: ['dropout_37']\n",
      "- This IS expected if you are initializing TFBertForSequenceClassification from the checkpoint of a model trained on another task or with another architecture (e.g. initializing a BertForSequenceClassification model from a BertForPreTraining model).\n",
      "- This IS NOT expected if you are initializing TFBertForSequenceClassification from the checkpoint of a model that you expect to be exactly identical (initializing a BertForSequenceClassification model from a BertForSequenceClassification model).\n",
      "All the layers of TFBertForSequenceClassification were initialized from the model checkpoint at nlptown/bert-base-multilingual-uncased-sentiment.\n",
      "If your task is similar to the task the model of the checkpoint was trained on, you can already use TFBertForSequenceClassification for predictions without further training.\n"
     ]
    },
    {
     "name": "stdout",
     "output_type": "stream",
     "text": [
      "right rate:  0.6066666666666667\n",
      "very wrong rate:  0.013333333333333334\n"
     ]
    }
   ],
   "source": [
    "nlp = pipeline(\"sentiment-analysis\", model='nlptown/bert-base-multilingual-uncased-sentiment')\n",
    "data_small = data.sample(300)\n",
    "data_small[\"santiment_pred\"] =data_small['Sentence'].apply(lambda sent: list(classifier(sent)[0].values()))\n",
    "data_small[\"power_pred\"] = data_small['santiment_pred'].apply(lambda a: a[1])\n",
    "data_small['santiment_pred'] = data_small['santiment_pred'].apply(lambda a: a[0])\n",
    "data_small[\"right\"] = np.where(data_small['Sentiment']==data_small['santiment_pred'],1,0)\n",
    "data_small[\"wrong\"] = np.where(data_small['Sentiment']==data_small['santiment_pred'],0,1)\n",
    "\n",
    "data_small[\"strongly_wrong\"] =np.where(data_small['Sentiment']!=data_small['santiment_pred'] ,1,0)\n",
    "data_small[\"strongly_wrong\"] =np.where(data_small['Sentiment']=='neutral' ,0,data_small[\"strongly_wrong\"])\n",
    "data_small[\"strongly_wrong\"] =np.where(data_small['santiment_pred']=='neutral' ,0,data_small[\"strongly_wrong\"])\n",
    "\n",
    "print(\"right rate: \",data_small[\"right\"].sum()/data_small[\"right\"].count())\n",
    "print(\"very wrong rate: \",data_small['strongly_wrong'].sum()/data_small[\"strongly_wrong\"].count())"
   ]
  },
  {
   "cell_type": "code",
   "execution_count": null,
   "id": "b50bccb7",
   "metadata": {},
   "outputs": [],
   "source": [
    "https://github.com/pysentimiento/pysentimiento"
   ]
  },
  {
   "cell_type": "markdown",
   "id": "eb8fe2de",
   "metadata": {},
   "source": [
    "# play ground"
   ]
  },
  {
   "cell_type": "code",
   "execution_count": 11,
   "id": "d47d1d5f",
   "metadata": {},
   "outputs": [
    {
     "data": {
      "application/vnd.jupyter.widget-view+json": {
       "model_id": "c2dda8793f8a479aa07b00a59c98b213",
       "version_major": 2,
       "version_minor": 0
      },
      "text/plain": [
       "Downloading pytorch_model.bin:   0%|          | 0.00/263M [00:00<?, ?B/s]"
      ]
     },
     "metadata": {},
     "output_type": "display_data"
    },
    {
     "name": "stderr",
     "output_type": "stream",
     "text": [
      "All PyTorch model weights were used when initializing TFDistilBertForSequenceClassification.\n",
      "\n",
      "All the weights of TFDistilBertForSequenceClassification were initialized from the PyTorch model.\n",
      "If your task is similar to the task the model of the checkpoint was trained on, you can already use TFDistilBertForSequenceClassification for predictions without further training.\n"
     ]
    },
    {
     "data": {
      "application/vnd.jupyter.widget-view+json": {
       "model_id": "e20623ae945241679ab61daa084cd20e",
       "version_major": 2,
       "version_minor": 0
      },
      "text/plain": [
       "Downloading (…)okenizer_config.json:   0%|          | 0.00/321 [00:00<?, ?B/s]"
      ]
     },
     "metadata": {},
     "output_type": "display_data"
    },
    {
     "data": {
      "application/vnd.jupyter.widget-view+json": {
       "model_id": "f66fd83eceb34580994cf1cbd02a4ab7",
       "version_major": 2,
       "version_minor": 0
      },
      "text/plain": [
       "Downloading (…)solve/main/vocab.txt:   0%|          | 0.00/213k [00:00<?, ?B/s]"
      ]
     },
     "metadata": {},
     "output_type": "display_data"
    },
    {
     "data": {
      "application/vnd.jupyter.widget-view+json": {
       "model_id": "d3c3484530914449bdfde49cf24f0f36",
       "version_major": 2,
       "version_minor": 0
      },
      "text/plain": [
       "Downloading (…)/main/tokenizer.json:   0%|          | 0.00/669k [00:00<?, ?B/s]"
      ]
     },
     "metadata": {},
     "output_type": "display_data"
    },
    {
     "data": {
      "application/vnd.jupyter.widget-view+json": {
       "model_id": "c5b2eb71c8c4434ca8abf9464e930e92",
       "version_major": 2,
       "version_minor": 0
      },
      "text/plain": [
       "Downloading (…)cial_tokens_map.json:   0%|          | 0.00/125 [00:00<?, ?B/s]"
      ]
     },
     "metadata": {},
     "output_type": "display_data"
    }
   ],
   "source": [
    "\n",
    "model = TFAutoModelForSequenceClassification.from_pretrained(\"KernAI/stock-news-distilbert\",from_pt=True)\n",
    "tokenizer = AutoTokenizer.from_pretrained(\"KernAI/stock-news-distilbert\")\n",
    "\n"
   ]
  },
  {
   "cell_type": "code",
   "execution_count": 76,
   "id": "063956b8",
   "metadata": {},
   "outputs": [
    {
     "name": "stdout",
     "output_type": "stream",
     "text": [
      "[{'label': 'negative', 'score': 0.9981594681739807}, {'label': 'positive', 'score': 0.46841657161712646}, {'label': 'negative', 'score': 0.9947216510772705}, {'label': 'neutral', 'score': 0.9445279836654663}, {'label': 'positive', 'score': 0.9798475503921509}, {'label': 'neutral', 'score': 0.9804892539978027}]\n"
     ]
    }
   ],
   "source": [
    "from transformers import pipeline\n",
    "\n",
    "classifier = pipeline(\"text-classification\", model=model, tokenizer=tokenizer)\n",
    "result = classifier([\"The stock fell\",\"The stock go up\",\"apple lost case\",\"terror group\",\"win case\",\"director die\"])\n",
    "print(result)\n"
   ]
  },
  {
   "cell_type": "code",
   "execution_count": 28,
   "id": "6cbbe5c5",
   "metadata": {},
   "outputs": [],
   "source": [
    "data = pd.read_csv(\"data_for_training_santiments.csv\")"
   ]
  },
  {
   "cell_type": "code",
   "execution_count": 165,
   "id": "4e96ca0e",
   "metadata": {},
   "outputs": [],
   "source": [
    "data_small = data.sample(500)"
   ]
  },
  {
   "cell_type": "code",
   "execution_count": 166,
   "id": "f2f427c3",
   "metadata": {},
   "outputs": [],
   "source": [
    "data_small[\"predict\"] =data_small[\"Sentence\"].apply(lambda sent: list(classifier(sent)[0].values()))"
   ]
  },
  {
   "cell_type": "code",
   "execution_count": 167,
   "id": "74d7ba43",
   "metadata": {},
   "outputs": [],
   "source": [
    "data_small[\"power\"] = data_small['predict'].apply(lambda a: a[1])\n",
    "data_small['predict'] = data_small['predict'].apply(lambda a: a[0])"
   ]
  },
  {
   "cell_type": "code",
   "execution_count": 136,
   "id": "7186a5e5",
   "metadata": {},
   "outputs": [
    {
     "data": {
      "text/html": [
       "<div>\n",
       "<style scoped>\n",
       "    .dataframe tbody tr th:only-of-type {\n",
       "        vertical-align: middle;\n",
       "    }\n",
       "\n",
       "    .dataframe tbody tr th {\n",
       "        vertical-align: top;\n",
       "    }\n",
       "\n",
       "    .dataframe thead th {\n",
       "        text-align: right;\n",
       "    }\n",
       "</style>\n",
       "<table border=\"1\" class=\"dataframe\">\n",
       "  <thead>\n",
       "    <tr style=\"text-align: right;\">\n",
       "      <th></th>\n",
       "      <th>Sentence</th>\n",
       "      <th>Sentiment</th>\n",
       "      <th>predict</th>\n",
       "      <th>power</th>\n",
       "    </tr>\n",
       "  </thead>\n",
       "  <tbody>\n",
       "    <tr>\n",
       "      <th>3485</th>\n",
       "      <td>Lassila &amp; Tikanoja 's operating profit excludi...</td>\n",
       "      <td>negative</td>\n",
       "      <td>neutral</td>\n",
       "      <td>0.856572</td>\n",
       "    </tr>\n",
       "    <tr>\n",
       "      <th>4076</th>\n",
       "      <td>In Finland , metal sector company Componenta i...</td>\n",
       "      <td>negative</td>\n",
       "      <td>negative</td>\n",
       "      <td>0.976236</td>\n",
       "    </tr>\n",
       "    <tr>\n",
       "      <th>1717</th>\n",
       "      <td>Cash flow from operations in January-December ...</td>\n",
       "      <td>negative</td>\n",
       "      <td>negative</td>\n",
       "      <td>0.998374</td>\n",
       "    </tr>\n",
       "    <tr>\n",
       "      <th>2054</th>\n",
       "      <td>$ROST Nov 90 calls 2.08 .. Go Long until exp i...</td>\n",
       "      <td>positive</td>\n",
       "      <td>neutral</td>\n",
       "      <td>0.997239</td>\n",
       "    </tr>\n",
       "    <tr>\n",
       "      <th>3769</th>\n",
       "      <td>Finnish meat company Atria can no longer promi...</td>\n",
       "      <td>negative</td>\n",
       "      <td>neutral</td>\n",
       "      <td>0.891702</td>\n",
       "    </tr>\n",
       "    <tr>\n",
       "      <th>5107</th>\n",
       "      <td>LONDON MarketWatch -- Share prices ended lower...</td>\n",
       "      <td>neutral</td>\n",
       "      <td>negative</td>\n",
       "      <td>0.997556</td>\n",
       "    </tr>\n",
       "    <tr>\n",
       "      <th>3161</th>\n",
       "      <td>In addition , the contract includes modificati...</td>\n",
       "      <td>neutral</td>\n",
       "      <td>neutral</td>\n",
       "      <td>0.990817</td>\n",
       "    </tr>\n",
       "    <tr>\n",
       "      <th>4688</th>\n",
       "      <td>Originally posted to the PCMag.com security bl...</td>\n",
       "      <td>neutral</td>\n",
       "      <td>neutral</td>\n",
       "      <td>0.997328</td>\n",
       "    </tr>\n",
       "    <tr>\n",
       "      <th>1383</th>\n",
       "      <td>Baird likes $TSLA - upgrades to outperform, li...</td>\n",
       "      <td>positive</td>\n",
       "      <td>positive</td>\n",
       "      <td>0.998509</td>\n",
       "    </tr>\n",
       "    <tr>\n",
       "      <th>3395</th>\n",
       "      <td>The long-standing partnership and commitment e...</td>\n",
       "      <td>positive</td>\n",
       "      <td>positive</td>\n",
       "      <td>0.987911</td>\n",
       "    </tr>\n",
       "  </tbody>\n",
       "</table>\n",
       "</div>"
      ],
      "text/plain": [
       "                                               Sentence Sentiment   predict  \\\n",
       "3485  Lassila & Tikanoja 's operating profit excludi...  negative   neutral   \n",
       "4076  In Finland , metal sector company Componenta i...  negative  negative   \n",
       "1717  Cash flow from operations in January-December ...  negative  negative   \n",
       "2054  $ROST Nov 90 calls 2.08 .. Go Long until exp i...  positive   neutral   \n",
       "3769  Finnish meat company Atria can no longer promi...  negative   neutral   \n",
       "5107  LONDON MarketWatch -- Share prices ended lower...   neutral  negative   \n",
       "3161  In addition , the contract includes modificati...   neutral   neutral   \n",
       "4688  Originally posted to the PCMag.com security bl...   neutral   neutral   \n",
       "1383  Baird likes $TSLA - upgrades to outperform, li...  positive  positive   \n",
       "3395  The long-standing partnership and commitment e...  positive  positive   \n",
       "\n",
       "         power  \n",
       "3485  0.856572  \n",
       "4076  0.976236  \n",
       "1717  0.998374  \n",
       "2054  0.997239  \n",
       "3769  0.891702  \n",
       "5107  0.997556  \n",
       "3161  0.990817  \n",
       "4688  0.997328  \n",
       "1383  0.998509  \n",
       "3395  0.987911  "
      ]
     },
     "execution_count": 136,
     "metadata": {},
     "output_type": "execute_result"
    }
   ],
   "source": [
    "data_small"
   ]
  },
  {
   "cell_type": "code",
   "execution_count": 37,
   "id": "1718f182",
   "metadata": {},
   "outputs": [],
   "source": [
    "#data_small[\"predict\"] = data_small[\"Sentence\"].apply(classifier)"
   ]
  },
  {
   "cell_type": "code",
   "execution_count": 168,
   "id": "1d412209",
   "metadata": {},
   "outputs": [],
   "source": [
    "data_small[\"right\"] = np.where(data_small['Sentiment']==data_small['predict'],1,0)\n",
    "data_small[\"wrong\"] = np.where(data_small['Sentiment']==data_small['predict'],0,1)\n",
    "\n",
    "data_small[\"strongly_wrong\"] =np.where(data_small['Sentiment']!=data_small['predict'] ,1,0)\n",
    "data_small[\"strongly_wrong\"] =np.where(data_small['Sentiment']=='neutral' ,0,data_small[\"strongly_wrong\"])\n",
    "data_small[\"strongly_wrong\"] =np.where(data_small['predict']=='neutral' ,0,data_small[\"strongly_wrong\"])\n"
   ]
  },
  {
   "cell_type": "code",
   "execution_count": 169,
   "id": "5c3b3fc9",
   "metadata": {},
   "outputs": [
    {
     "data": {
      "text/plain": [
       "0.62"
      ]
     },
     "execution_count": 169,
     "metadata": {},
     "output_type": "execute_result"
    }
   ],
   "source": [
    "data_small[\"right\"].sum()/data_small[\"right\"].count()"
   ]
  },
  {
   "cell_type": "code",
   "execution_count": 170,
   "id": "3176f648",
   "metadata": {},
   "outputs": [
    {
     "name": "stdout",
     "output_type": "stream",
     "text": [
      "right rate:  0.62\n",
      "very wrong rate;  0.024\n"
     ]
    }
   ],
   "source": [
    "print(\"right rate: \",data_small[\"right\"].sum()/data_small[\"right\"].count())\n",
    "print(\"very wrong rate; \",data_small['strongly_wrong'].sum()/data_small[\"strongly_wrong\"].count())"
   ]
  },
  {
   "cell_type": "code",
   "execution_count": 171,
   "id": "c3afb8b8",
   "metadata": {},
   "outputs": [],
   "source": [
    "strong = data_small[data_small['power']>data_small['power'].mean()+(1-data_small['power'].mean())*0.1]"
   ]
  },
  {
   "cell_type": "code",
   "execution_count": 172,
   "id": "47bbb1cb",
   "metadata": {},
   "outputs": [
    {
     "name": "stdout",
     "output_type": "stream",
     "text": [
      "right rate:  0.6683804627249358\n",
      "very wrong rate;  0.017994858611825194\n"
     ]
    }
   ],
   "source": [
    "print(\"right rate: \",strong[\"right\"].sum()/strong[\"right\"].count())\n",
    "print(\"very wrong rate; \",strong['strongly_wrong'].sum()/strong[\"strongly_wrong\"].count())"
   ]
  },
  {
   "cell_type": "code",
   "execution_count": 178,
   "id": "2752963d",
   "metadata": {
    "scrolled": true
   },
   "outputs": [
    {
     "data": {
      "text/plain": [
       "predict   Sentiment\n",
       "negative  neutral      42\n",
       "          positive      4\n",
       "neutral   negative     11\n",
       "          positive     26\n",
       "positive  negative      8\n",
       "          neutral      99\n",
       "Name: Sentence, dtype: int64"
      ]
     },
     "execution_count": 178,
     "metadata": {},
     "output_type": "execute_result"
    }
   ],
   "source": [
    "data_small[data_small[\"right\"]==0].groupby(['predict','Sentiment'])['Sentence'].count()"
   ]
  },
  {
   "cell_type": "code",
   "execution_count": 179,
   "id": "1fdc0c30",
   "metadata": {},
   "outputs": [
    {
     "name": "stderr",
     "output_type": "stream",
     "text": [
      "No model was supplied, defaulted to distilbert-base-uncased-finetuned-sst-2-english and revision af0f99b (https://huggingface.co/distilbert-base-uncased-finetuned-sst-2-english).\n",
      "Using a pipeline without specifying a model name and revision in production is not recommended.\n"
     ]
    },
    {
     "data": {
      "application/vnd.jupyter.widget-view+json": {
       "model_id": "44681fb9a5e44a8584e31f1bbdc99cb2",
       "version_major": 2,
       "version_minor": 0
      },
      "text/plain": [
       "Downloading (…)lve/main/config.json:   0%|          | 0.00/629 [00:00<?, ?B/s]"
      ]
     },
     "metadata": {},
     "output_type": "display_data"
    },
    {
     "data": {
      "application/vnd.jupyter.widget-view+json": {
       "model_id": "057c85c4e3d34cb0937188525fe84020",
       "version_major": 2,
       "version_minor": 0
      },
      "text/plain": [
       "Downloading model.safetensors:   0%|          | 0.00/268M [00:00<?, ?B/s]"
      ]
     },
     "metadata": {},
     "output_type": "display_data"
    },
    {
     "name": "stderr",
     "output_type": "stream",
     "text": [
      "All PyTorch model weights were used when initializing TFDistilBertForSequenceClassification.\n",
      "\n",
      "All the weights of TFDistilBertForSequenceClassification were initialized from the PyTorch model.\n",
      "If your task is similar to the task the model of the checkpoint was trained on, you can already use TFDistilBertForSequenceClassification for predictions without further training.\n"
     ]
    },
    {
     "data": {
      "application/vnd.jupyter.widget-view+json": {
       "model_id": "512284312438496b9a58754a0a1fcc53",
       "version_major": 2,
       "version_minor": 0
      },
      "text/plain": [
       "Downloading (…)okenizer_config.json:   0%|          | 0.00/48.0 [00:00<?, ?B/s]"
      ]
     },
     "metadata": {},
     "output_type": "display_data"
    },
    {
     "data": {
      "application/vnd.jupyter.widget-view+json": {
       "model_id": "1875dd05d0244a9dab02dd95ad20f880",
       "version_major": 2,
       "version_minor": 0
      },
      "text/plain": [
       "Downloading (…)solve/main/vocab.txt:   0%|          | 0.00/232k [00:00<?, ?B/s]"
      ]
     },
     "metadata": {},
     "output_type": "display_data"
    },
    {
     "name": "stdout",
     "output_type": "stream",
     "text": [
      "[{'label': 'NEGATIVE', 'score': 0.9996916055679321}, {'label': 'POSITIVE', 'score': 0.9924317598342896}, {'label': 'NEGATIVE', 'score': 0.999537467956543}, {'label': 'NEGATIVE', 'score': 0.9886809587478638}, {'label': 'POSITIVE', 'score': 0.999614953994751}, {'label': 'NEGATIVE', 'score': 0.9993342757225037}]\n"
     ]
    }
   ],
   "source": [
    "classifier2 = pipeline(\"text-classification\")\n",
    "result = classifier2([\"The stock fell\",\"The stock go up\",\"apple lost case\",\"terror group\",\"win case\",\"director die\"])\n",
    "print(result)"
   ]
  },
  {
   "cell_type": "code",
   "execution_count": 183,
   "id": "99caa971",
   "metadata": {},
   "outputs": [
    {
     "data": {
      "text/plain": [
       "'negative'"
      ]
     },
     "execution_count": 183,
     "metadata": {},
     "output_type": "execute_result"
    }
   ],
   "source": [
    "list(classifier2(\"The stock fell\")[0].values())[0].lower()"
   ]
  },
  {
   "cell_type": "code",
   "execution_count": 184,
   "id": "0d797ee8",
   "metadata": {},
   "outputs": [],
   "source": [
    "data_small[\"predict2\"] =data_small[\"Sentence\"].apply(lambda sent: list(classifier2(sent)[0].values()))"
   ]
  },
  {
   "cell_type": "code",
   "execution_count": 185,
   "id": "294b148d",
   "metadata": {},
   "outputs": [],
   "source": [
    "data_small[\"power2\"] = data_small['predict2'].apply(lambda a: a[1])\n",
    "data_small['predict2'] = data_small['predict2'].apply(lambda a: a[0].lower())"
   ]
  },
  {
   "cell_type": "code",
   "execution_count": 186,
   "id": "dde7faa1",
   "metadata": {},
   "outputs": [
    {
     "data": {
      "text/html": [
       "<div>\n",
       "<style scoped>\n",
       "    .dataframe tbody tr th:only-of-type {\n",
       "        vertical-align: middle;\n",
       "    }\n",
       "\n",
       "    .dataframe tbody tr th {\n",
       "        vertical-align: top;\n",
       "    }\n",
       "\n",
       "    .dataframe thead th {\n",
       "        text-align: right;\n",
       "    }\n",
       "</style>\n",
       "<table border=\"1\" class=\"dataframe\">\n",
       "  <thead>\n",
       "    <tr style=\"text-align: right;\">\n",
       "      <th></th>\n",
       "      <th>Sentence</th>\n",
       "      <th>Sentiment</th>\n",
       "      <th>predict</th>\n",
       "      <th>power</th>\n",
       "      <th>right</th>\n",
       "      <th>wrong</th>\n",
       "      <th>strongly_wrong</th>\n",
       "      <th>predict2</th>\n",
       "      <th>power2</th>\n",
       "    </tr>\n",
       "  </thead>\n",
       "  <tbody>\n",
       "    <tr>\n",
       "      <th>4068</th>\n",
       "      <td>Finnish security and privacy software solution...</td>\n",
       "      <td>positive</td>\n",
       "      <td>positive</td>\n",
       "      <td>0.997442</td>\n",
       "      <td>1</td>\n",
       "      <td>0</td>\n",
       "      <td>0</td>\n",
       "      <td>negative</td>\n",
       "      <td>0.934136</td>\n",
       "    </tr>\n",
       "    <tr>\n",
       "      <th>5412</th>\n",
       "      <td>Isolationism? Another Sell Rating, Sell Rating...</td>\n",
       "      <td>negative</td>\n",
       "      <td>neutral</td>\n",
       "      <td>0.961804</td>\n",
       "      <td>0</td>\n",
       "      <td>1</td>\n",
       "      <td>0</td>\n",
       "      <td>negative</td>\n",
       "      <td>0.997624</td>\n",
       "    </tr>\n",
       "    <tr>\n",
       "      <th>2518</th>\n",
       "      <td>Steve Jackson , eBusiness Analyst at Satama an...</td>\n",
       "      <td>neutral</td>\n",
       "      <td>neutral</td>\n",
       "      <td>0.606442</td>\n",
       "      <td>1</td>\n",
       "      <td>0</td>\n",
       "      <td>0</td>\n",
       "      <td>negative</td>\n",
       "      <td>0.812509</td>\n",
       "    </tr>\n",
       "    <tr>\n",
       "      <th>2318</th>\n",
       "      <td>Finnish automation solutions developer Cencorp...</td>\n",
       "      <td>neutral</td>\n",
       "      <td>negative</td>\n",
       "      <td>0.987838</td>\n",
       "      <td>0</td>\n",
       "      <td>1</td>\n",
       "      <td>0</td>\n",
       "      <td>negative</td>\n",
       "      <td>0.998935</td>\n",
       "    </tr>\n",
       "    <tr>\n",
       "      <th>5171</th>\n",
       "      <td>Finnish KCI Konecranes has raised its net sale...</td>\n",
       "      <td>positive</td>\n",
       "      <td>positive</td>\n",
       "      <td>0.997972</td>\n",
       "      <td>1</td>\n",
       "      <td>0</td>\n",
       "      <td>0</td>\n",
       "      <td>positive</td>\n",
       "      <td>0.993687</td>\n",
       "    </tr>\n",
       "    <tr>\n",
       "      <th>...</th>\n",
       "      <td>...</td>\n",
       "      <td>...</td>\n",
       "      <td>...</td>\n",
       "      <td>...</td>\n",
       "      <td>...</td>\n",
       "      <td>...</td>\n",
       "      <td>...</td>\n",
       "      <td>...</td>\n",
       "      <td>...</td>\n",
       "    </tr>\n",
       "    <tr>\n",
       "      <th>4891</th>\n",
       "      <td>HELSINKI ( AFX ) - Metso said it will upgrade ...</td>\n",
       "      <td>positive</td>\n",
       "      <td>positive</td>\n",
       "      <td>0.997210</td>\n",
       "      <td>1</td>\n",
       "      <td>0</td>\n",
       "      <td>0</td>\n",
       "      <td>positive</td>\n",
       "      <td>0.956265</td>\n",
       "    </tr>\n",
       "    <tr>\n",
       "      <th>1606</th>\n",
       "      <td>The copying , republication or redistribution ...</td>\n",
       "      <td>neutral</td>\n",
       "      <td>negative</td>\n",
       "      <td>0.995548</td>\n",
       "      <td>0</td>\n",
       "      <td>1</td>\n",
       "      <td>0</td>\n",
       "      <td>negative</td>\n",
       "      <td>0.997213</td>\n",
       "    </tr>\n",
       "    <tr>\n",
       "      <th>2752</th>\n",
       "      <td>Glaston , headquartered in Tampere , Finland ,...</td>\n",
       "      <td>neutral</td>\n",
       "      <td>positive</td>\n",
       "      <td>0.996659</td>\n",
       "      <td>0</td>\n",
       "      <td>1</td>\n",
       "      <td>0</td>\n",
       "      <td>positive</td>\n",
       "      <td>0.999345</td>\n",
       "    </tr>\n",
       "    <tr>\n",
       "      <th>4739</th>\n",
       "      <td>GlaxoSmithKline share price slips as FDA okays...</td>\n",
       "      <td>negative</td>\n",
       "      <td>negative</td>\n",
       "      <td>0.997758</td>\n",
       "      <td>1</td>\n",
       "      <td>0</td>\n",
       "      <td>0</td>\n",
       "      <td>negative</td>\n",
       "      <td>0.998802</td>\n",
       "    </tr>\n",
       "    <tr>\n",
       "      <th>1810</th>\n",
       "      <td>Compared with the FTSE 100 index , which rose ...</td>\n",
       "      <td>positive</td>\n",
       "      <td>positive</td>\n",
       "      <td>0.988721</td>\n",
       "      <td>1</td>\n",
       "      <td>0</td>\n",
       "      <td>0</td>\n",
       "      <td>negative</td>\n",
       "      <td>0.855405</td>\n",
       "    </tr>\n",
       "  </tbody>\n",
       "</table>\n",
       "<p>500 rows × 9 columns</p>\n",
       "</div>"
      ],
      "text/plain": [
       "                                               Sentence Sentiment   predict  \\\n",
       "4068  Finnish security and privacy software solution...  positive  positive   \n",
       "5412  Isolationism? Another Sell Rating, Sell Rating...  negative   neutral   \n",
       "2518  Steve Jackson , eBusiness Analyst at Satama an...   neutral   neutral   \n",
       "2318  Finnish automation solutions developer Cencorp...   neutral  negative   \n",
       "5171  Finnish KCI Konecranes has raised its net sale...  positive  positive   \n",
       "...                                                 ...       ...       ...   \n",
       "4891  HELSINKI ( AFX ) - Metso said it will upgrade ...  positive  positive   \n",
       "1606  The copying , republication or redistribution ...   neutral  negative   \n",
       "2752  Glaston , headquartered in Tampere , Finland ,...   neutral  positive   \n",
       "4739  GlaxoSmithKline share price slips as FDA okays...  negative  negative   \n",
       "1810  Compared with the FTSE 100 index , which rose ...  positive  positive   \n",
       "\n",
       "         power  right  wrong  strongly_wrong  predict2    power2  \n",
       "4068  0.997442      1      0               0  negative  0.934136  \n",
       "5412  0.961804      0      1               0  negative  0.997624  \n",
       "2518  0.606442      1      0               0  negative  0.812509  \n",
       "2318  0.987838      0      1               0  negative  0.998935  \n",
       "5171  0.997972      1      0               0  positive  0.993687  \n",
       "...        ...    ...    ...             ...       ...       ...  \n",
       "4891  0.997210      1      0               0  positive  0.956265  \n",
       "1606  0.995548      0      1               0  negative  0.997213  \n",
       "2752  0.996659      0      1               0  positive  0.999345  \n",
       "4739  0.997758      1      0               0  negative  0.998802  \n",
       "1810  0.988721      1      0               0  negative  0.855405  \n",
       "\n",
       "[500 rows x 9 columns]"
      ]
     },
     "execution_count": 186,
     "metadata": {},
     "output_type": "execute_result"
    }
   ],
   "source": [
    "data_small"
   ]
  },
  {
   "cell_type": "code",
   "execution_count": 37,
   "id": "f22698b4",
   "metadata": {},
   "outputs": [],
   "source": [
    "#data_small[\"predict\"] = data_small[\"Sentence\"].apply(classifier)"
   ]
  },
  {
   "cell_type": "code",
   "execution_count": 188,
   "id": "3df44341",
   "metadata": {},
   "outputs": [],
   "source": [
    "data_small[\"right2\"] = np.where(data_small['Sentiment']==data_small['predict2'],1,0)\n",
    "data_small[\"wrong2\"] = np.where(data_small['Sentiment']==data_small['predict2'],0,1)\n",
    "\n",
    "data_small[\"strongly_wrong2\"] =np.where(data_small['Sentiment']!=data_small['predict2'] ,1,0)\n",
    "data_small[\"strongly_wrong2\"] =np.where(data_small['Sentiment']=='neutral' ,0,data_small[\"strongly_wrong2\"])\n",
    "data_small[\"strongly_wrong2\"] =np.where(data_small['predict2']=='neutral' ,0,data_small[\"strongly_wrong2\"])\n"
   ]
  },
  {
   "cell_type": "code",
   "execution_count": 189,
   "id": "c915545c",
   "metadata": {},
   "outputs": [
    {
     "data": {
      "text/plain": [
       "0.308"
      ]
     },
     "execution_count": 189,
     "metadata": {},
     "output_type": "execute_result"
    }
   ],
   "source": [
    "data_small[\"right2\"].sum()/data_small[\"right2\"].count()"
   ]
  },
  {
   "cell_type": "code",
   "execution_count": 190,
   "id": "eca56198",
   "metadata": {},
   "outputs": [
    {
     "name": "stdout",
     "output_type": "stream",
     "text": [
      "right rate:  0.308\n",
      "very wrong rate;  0.15\n"
     ]
    }
   ],
   "source": [
    "print(\"right rate: \",data_small[\"right2\"].sum()/data_small[\"right2\"].count())\n",
    "print(\"very wrong rate; \",data_small['strongly_wrong2'].sum()/data_small[\"strongly_wrong2\"].count())"
   ]
  },
  {
   "cell_type": "code",
   "execution_count": 191,
   "id": "220c0a87",
   "metadata": {},
   "outputs": [],
   "source": [
    "strong = data_small[data_small['power2']>data_small['power2'].mean()+(1-data_small['power2'].mean())*0.1]"
   ]
  },
  {
   "cell_type": "code",
   "execution_count": 192,
   "id": "fd257a15",
   "metadata": {},
   "outputs": [
    {
     "name": "stdout",
     "output_type": "stream",
     "text": [
      "right rate:  0.3582887700534759\n",
      "very wrong rate;  0.12834224598930483\n"
     ]
    }
   ],
   "source": [
    "print(\"right rate: \",strong[\"right2\"].sum()/strong[\"right2\"].count())\n",
    "print(\"very wrong rate; \",strong['strongly_wrong2'].sum()/strong[\"strongly_wrong2\"].count())"
   ]
  },
  {
   "cell_type": "code",
   "execution_count": 195,
   "id": "3e44a952",
   "metadata": {
    "scrolled": true
   },
   "outputs": [
    {
     "data": {
      "text/plain": [
       "predict2  Sentiment\n",
       "negative  negative      79\n",
       "          neutral      165\n",
       "          positive      73\n",
       "positive  negative       2\n",
       "          neutral      106\n",
       "          positive      75\n",
       "Name: Sentence, dtype: int64"
      ]
     },
     "execution_count": 195,
     "metadata": {},
     "output_type": "execute_result"
    }
   ],
   "source": [
    "data_small.groupby(['predict2','Sentiment'])['Sentence'].count()"
   ]
  }
 ],
 "metadata": {
  "kernelspec": {
   "display_name": "Python 3 (ipykernel)",
   "language": "python",
   "name": "python3"
  },
  "language_info": {
   "codemirror_mode": {
    "name": "ipython",
    "version": 3
   },
   "file_extension": ".py",
   "mimetype": "text/x-python",
   "name": "python",
   "nbconvert_exporter": "python",
   "pygments_lexer": "ipython3",
   "version": "3.9.13"
  }
 },
 "nbformat": 4,
 "nbformat_minor": 5
}
